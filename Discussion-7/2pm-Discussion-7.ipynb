{
 "cells": [
  {
   "cell_type": "markdown",
   "id": "f9925414-fff7-41f0-a03a-c34428744aa1",
   "metadata": {},
   "source": [
    "### Discussion # 7"
   ]
  },
  {
   "cell_type": "markdown",
   "id": "2a372648-5fd3-488c-918b-ddba820c1b16",
   "metadata": {},
   "source": [
    "### Introduction\n",
    "\n",
    "In this week's discussion section, we will use a dataset containing tweets related to different disasters. For each observation (tweet), there is an outcome variable that classifies the disasters talked about in the tweet as real (1), or not (0). Rather than having multiple predictors as our `X`, we will have one predictor - the tweet. However, each individual word can be thought of as their own predictor, each contributing to predicting our outcome variable. \n",
    "\n",
    "### Data \n",
    "\n",
    "The dataset this week is a commonly used dataset for NLP (Natural Language Processing).  The dataset can be found [here](https://drive.google.com/drive/home?dmr=1&ec=wgc-drive-hero-goto). `Disasters.csv` includes a `text` variable, which contains the tweet as a string. Our target variable, `target`, is a binary outcome variable with 1 representing the disaster discussed as real, and 0 representing the disaster discussed as not real.  \n",
    "\n",
    "### Excercise\n",
    "\n"
   ]
  },
  {
   "cell_type": "markdown",
   "id": "d9001743-6690-40a4-a04f-f537c469dee3",
   "metadata": {
    "tags": []
   },
   "source": [
    "#### Load in libraries and data"
   ]
  },
  {
   "cell_type": "code",
   "execution_count": 4,
   "id": "ea97cfd0-3488-4808-9c10-75ee09a1f02b",
   "metadata": {
    "tags": []
   },
   "outputs": [],
   "source": [
    "import pandas as pd\n",
    "import numpy as np\n",
    "from sklearn.model_selection import train_test_split\n",
    "from sklearn.feature_extraction.text import TfidfVectorizer, CountVectorizer\n",
    "from sklearn.linear_model import LogisticRegression\n",
    "from sklearn.metrics import classification_report, f1_score, accuracy_score, confusion_matrix\n",
    "from sklearn.metrics import roc_curve, auc, roc_auc_score\n",
    "import re\n",
    "import string\n",
    "import matplotlib.pyplot as plt\n",
    "import seaborn as sns"
   ]
  },
  {
   "cell_type": "code",
   "execution_count": 5,
   "id": "bb648c81-d356-4fe0-ac33-1b7632b3b62f",
   "metadata": {
    "tags": []
   },
   "outputs": [
    {
     "data": {
      "text/html": [
       "<div>\n",
       "<style scoped>\n",
       "    .dataframe tbody tr th:only-of-type {\n",
       "        vertical-align: middle;\n",
       "    }\n",
       "\n",
       "    .dataframe tbody tr th {\n",
       "        vertical-align: top;\n",
       "    }\n",
       "\n",
       "    .dataframe thead th {\n",
       "        text-align: right;\n",
       "    }\n",
       "</style>\n",
       "<table border=\"1\" class=\"dataframe\">\n",
       "  <thead>\n",
       "    <tr style=\"text-align: right;\">\n",
       "      <th></th>\n",
       "      <th>id</th>\n",
       "      <th>keyword</th>\n",
       "      <th>location</th>\n",
       "      <th>text</th>\n",
       "      <th>target</th>\n",
       "    </tr>\n",
       "  </thead>\n",
       "  <tbody>\n",
       "    <tr>\n",
       "      <th>0</th>\n",
       "      <td>1</td>\n",
       "      <td>NaN</td>\n",
       "      <td>NaN</td>\n",
       "      <td>Our Deeds are the Reason of this #earthquake M...</td>\n",
       "      <td>1</td>\n",
       "    </tr>\n",
       "    <tr>\n",
       "      <th>1</th>\n",
       "      <td>4</td>\n",
       "      <td>NaN</td>\n",
       "      <td>NaN</td>\n",
       "      <td>Forest fire near La Ronge Sask. Canada</td>\n",
       "      <td>1</td>\n",
       "    </tr>\n",
       "    <tr>\n",
       "      <th>2</th>\n",
       "      <td>5</td>\n",
       "      <td>NaN</td>\n",
       "      <td>NaN</td>\n",
       "      <td>All residents asked to 'shelter in place' are ...</td>\n",
       "      <td>1</td>\n",
       "    </tr>\n",
       "    <tr>\n",
       "      <th>3</th>\n",
       "      <td>6</td>\n",
       "      <td>NaN</td>\n",
       "      <td>NaN</td>\n",
       "      <td>13,000 people receive #wildfires evacuation or...</td>\n",
       "      <td>1</td>\n",
       "    </tr>\n",
       "    <tr>\n",
       "      <th>4</th>\n",
       "      <td>7</td>\n",
       "      <td>NaN</td>\n",
       "      <td>NaN</td>\n",
       "      <td>Just got sent this photo from Ruby #Alaska as ...</td>\n",
       "      <td>1</td>\n",
       "    </tr>\n",
       "  </tbody>\n",
       "</table>\n",
       "</div>"
      ],
      "text/plain": [
       "   id keyword location                                               text  \\\n",
       "0   1     NaN      NaN  Our Deeds are the Reason of this #earthquake M...   \n",
       "1   4     NaN      NaN             Forest fire near La Ronge Sask. Canada   \n",
       "2   5     NaN      NaN  All residents asked to 'shelter in place' are ...   \n",
       "3   6     NaN      NaN  13,000 people receive #wildfires evacuation or...   \n",
       "4   7     NaN      NaN  Just got sent this photo from Ruby #Alaska as ...   \n",
       "\n",
       "   target  \n",
       "0       1  \n",
       "1       1  \n",
       "2       1  \n",
       "3       1  \n",
       "4       1  "
      ]
     },
     "execution_count": 5,
     "metadata": {},
     "output_type": "execute_result"
    }
   ],
   "source": [
    "disaster= pd.read_csv('data/disaster.csv')\n",
    "disaster.head()"
   ]
  },
  {
   "cell_type": "markdown",
   "id": "9a21ca89-c503-457c-adb0-29cfec3f356e",
   "metadata": {
    "tags": []
   },
   "source": [
    "#### String cleaning\n",
    "\n",
    "Copy the code below into your notebook. Work with a partner and write a comment for what each line of code is doing. "
   ]
  },
  {
   "cell_type": "code",
   "execution_count": 6,
   "id": "8dcc85c6-7bee-40a0-9c28-924e829d75cf",
   "metadata": {
    "tags": []
   },
   "outputs": [],
   "source": [
    "# Cleaning of text data\n",
    "def preprocess(text):\n",
    "    text = text.lower() # Converts to lowercase\n",
    "    text=text.strip()  # Removes leading/ trailing whitespace\n",
    "    text=re.sub(r'<.*?>','', text) # Remove html sytax \n",
    "    text = re.sub(r'[^\\w\\s]','',text)  # removes punctuation\n",
    "    text = re.sub(r'\\[[0-9]*\\]',' ',text)  # removes references\n",
    "    text = re.sub(r'\\d',' ',text) # removes digits\n",
    "    text = re.sub(r'\\s+', ' ', text) # collapse multiple spaces into a single space\n",
    "    return text\n",
    "\n"
   ]
  },
  {
   "cell_type": "code",
   "execution_count": 7,
   "id": "67a460bd-1e64-40ab-819e-029945431d60",
   "metadata": {
    "tags": []
   },
   "outputs": [
    {
     "data": {
      "text/html": [
       "<div>\n",
       "<style scoped>\n",
       "    .dataframe tbody tr th:only-of-type {\n",
       "        vertical-align: middle;\n",
       "    }\n",
       "\n",
       "    .dataframe tbody tr th {\n",
       "        vertical-align: top;\n",
       "    }\n",
       "\n",
       "    .dataframe thead th {\n",
       "        text-align: right;\n",
       "    }\n",
       "</style>\n",
       "<table border=\"1\" class=\"dataframe\">\n",
       "  <thead>\n",
       "    <tr style=\"text-align: right;\">\n",
       "      <th></th>\n",
       "      <th>id</th>\n",
       "      <th>keyword</th>\n",
       "      <th>location</th>\n",
       "      <th>text</th>\n",
       "      <th>target</th>\n",
       "      <th>clean_text</th>\n",
       "    </tr>\n",
       "  </thead>\n",
       "  <tbody>\n",
       "    <tr>\n",
       "      <th>0</th>\n",
       "      <td>1</td>\n",
       "      <td>NaN</td>\n",
       "      <td>NaN</td>\n",
       "      <td>Our Deeds are the Reason of this #earthquake M...</td>\n",
       "      <td>1</td>\n",
       "      <td>our deeds are the reason of this earthquake ma...</td>\n",
       "    </tr>\n",
       "    <tr>\n",
       "      <th>1</th>\n",
       "      <td>4</td>\n",
       "      <td>NaN</td>\n",
       "      <td>NaN</td>\n",
       "      <td>Forest fire near La Ronge Sask. Canada</td>\n",
       "      <td>1</td>\n",
       "      <td>forest fire near la ronge sask canada</td>\n",
       "    </tr>\n",
       "    <tr>\n",
       "      <th>2</th>\n",
       "      <td>5</td>\n",
       "      <td>NaN</td>\n",
       "      <td>NaN</td>\n",
       "      <td>All residents asked to 'shelter in place' are ...</td>\n",
       "      <td>1</td>\n",
       "      <td>all residents asked to shelter in place are be...</td>\n",
       "    </tr>\n",
       "    <tr>\n",
       "      <th>3</th>\n",
       "      <td>6</td>\n",
       "      <td>NaN</td>\n",
       "      <td>NaN</td>\n",
       "      <td>13,000 people receive #wildfires evacuation or...</td>\n",
       "      <td>1</td>\n",
       "      <td>people receive wildfires evacuation orders in...</td>\n",
       "    </tr>\n",
       "    <tr>\n",
       "      <th>4</th>\n",
       "      <td>7</td>\n",
       "      <td>NaN</td>\n",
       "      <td>NaN</td>\n",
       "      <td>Just got sent this photo from Ruby #Alaska as ...</td>\n",
       "      <td>1</td>\n",
       "      <td>just got sent this photo from ruby alaska as s...</td>\n",
       "    </tr>\n",
       "  </tbody>\n",
       "</table>\n",
       "</div>"
      ],
      "text/plain": [
       "   id keyword location                                               text  \\\n",
       "0   1     NaN      NaN  Our Deeds are the Reason of this #earthquake M...   \n",
       "1   4     NaN      NaN             Forest fire near La Ronge Sask. Canada   \n",
       "2   5     NaN      NaN  All residents asked to 'shelter in place' are ...   \n",
       "3   6     NaN      NaN  13,000 people receive #wildfires evacuation or...   \n",
       "4   7     NaN      NaN  Just got sent this photo from Ruby #Alaska as ...   \n",
       "\n",
       "   target                                         clean_text  \n",
       "0       1  our deeds are the reason of this earthquake ma...  \n",
       "1       1              forest fire near la ronge sask canada  \n",
       "2       1  all residents asked to shelter in place are be...  \n",
       "3       1   people receive wildfires evacuation orders in...  \n",
       "4       1  just got sent this photo from ruby alaska as s...  "
      ]
     },
     "execution_count": 7,
     "metadata": {},
     "output_type": "execute_result"
    }
   ],
   "source": [
    "# Apply string cleaning to text variable\n",
    "disaster['clean_text'] = disaster['text'].apply(preprocess)\n",
    "disaster.head()"
   ]
  },
  {
   "cell_type": "markdown",
   "id": "23dd867d-ede8-439a-a355-73735e117229",
   "metadata": {},
   "source": [
    "#### What about stop words?"
   ]
  },
  {
   "cell_type": "code",
   "execution_count": 8,
   "id": "06f523cd-fa1e-4826-9a9c-716366e4c71f",
   "metadata": {
    "tags": []
   },
   "outputs": [
    {
     "name": "stdout",
     "output_type": "stream",
     "text": [
      "Remaining words\n",
      "['5th' 'awesome' 'capstone' 'crush' 'march' 'presentation' 'team']\n"
     ]
    }
   ],
   "source": [
    "# Proof that Tfidf veoctorizer excludes stopwords\n",
    "stop_words_ex = [\"On March 5th, I will crush my capstone presentation with my awesome team!\"]\n",
    "\n",
    "vectorizer_english = TfidfVectorizer(stop_words = \"english\")\n",
    "vectorizer_english.fit_transform(stop_words_ex)\n",
    "\n",
    "print(\"Remaining words\")\n",
    "print(vectorizer_english.get_feature_names_out())\n"
   ]
  },
  {
   "cell_type": "markdown",
   "id": "4eeec781-dd05-4506-82e3-938582b192be",
   "metadata": {},
   "source": [
    "#### Logistic Regression"
   ]
  },
  {
   "cell_type": "code",
   "execution_count": 9,
   "id": "fe9ee507-98c1-46f9-896b-198048a0498c",
   "metadata": {
    "tags": []
   },
   "outputs": [],
   "source": [
    "# Split into test and train\n",
    "X_train, X_test, y_train, y_test = train_test_split(disaster[\"clean_text\"], disaster['target'], test_size = 0.3, random_state = 42)"
   ]
  },
  {
   "cell_type": "code",
   "execution_count": 10,
   "id": "ea02490d-6080-489c-8e4a-4d97ad4f851f",
   "metadata": {
    "tags": []
   },
   "outputs": [],
   "source": [
    "# Vectorize words \n",
    "tfidf_vectorizer = TfidfVectorizer(stop_words = \"english\")\n",
    "X_train_tfidf = tfidf_vectorizer.fit_transform(X_train)\n",
    "X_test_tfidf = tfidf_vectorizer.transform(X_test)"
   ]
  },
  {
   "cell_type": "code",
   "execution_count": 12,
   "id": "64830bb2-28af-48f5-8886-4a3008a15aec",
   "metadata": {
    "tags": []
   },
   "outputs": [],
   "source": [
    "# Initialize a logistic regression model and fit to vectorized training data\n",
    "lr_model = LogisticRegression(random_state = 42)\n",
    "lr_model.fit(X_train_tfidf, y_train)\n",
    "y_pred = lr_model.predict(X_test_tfidf)"
   ]
  },
  {
   "cell_type": "markdown",
   "id": "70b631fa-ed9a-4180-bbe3-4d1d5b495361",
   "metadata": {},
   "source": [
    "#### Logistic Regression Results"
   ]
  },
  {
   "cell_type": "code",
   "execution_count": 13,
   "id": "47264110-49d0-42ec-85cf-d2ce5ddeaa56",
   "metadata": {},
   "outputs": [
    {
     "name": "stdout",
     "output_type": "stream",
     "text": [
      "Accuracy: 0.803415061295972\n"
     ]
    },
    {
     "data": {
      "image/png": "[encoded data removed]",
      "text/plain": [
       "<Figure size 800x600 with 2 Axes>"
      ]
     },
     "metadata": {},
     "output_type": "display_data"
    }
   ],
   "source": [
    "# Calculate LR accuracy\n",
    "accuracy = accuracy_score(y_test, y_pred)\n",
    "print(f\"Accuracy: {accuracy}\")\n",
    "\n",
    "# Create confusion matrix for correctly/incorrectly predicting outcome variable\n",
    "cm = confusion_matrix(y_test, y_pred)\n",
    "plt.figure(figsize = (8,6))\n",
    "sns.heatmap(cm, annot = True, fmt = 'd', cmap = \"GnBu\",\n",
    "           xticklabels = [\"No disaster\", \"Disaster\"],\n",
    "           yticklabels = [\"No Disaster\", 'Disaster'])\n",
    "plt.title('Logisitc Regression Model Performance')\n",
    "plt.ylabel('True Label')\n",
    "plt.xlabel('Predicated Label')\n",
    "plt.show()\n"
   ]
  },
  {
   "cell_type": "markdown",
   "id": "f257ce8a-ef82-4a21-aa92-2ddb71c588e8",
   "metadata": {},
   "source": [
    "#### Test model with new data"
   ]
  },
  {
   "cell_type": "code",
   "execution_count": 16,
   "id": "46febaf2-a5ad-46ff-b062-15ee36c08578",
   "metadata": {
    "tags": []
   },
   "outputs": [
    {
     "name": "stdout",
     "output_type": "stream",
     "text": [
      "Text: BREAKING: Massve earthquake hits the coast\n",
      "Prediction: Real Disaster\n",
      "\n",
      "Text: I love watching disaster movies on Netflix\n",
      "Prediction: Not a Real Disaster\n",
      "\n",
      "Text: Thousands evacuated as hurricance approaches\n",
      "Prediction: Real Disaster\n",
      "\n",
      "Text: Theeeesssss is a disassterrrrr\n",
      "Prediction: Not a Real Disaster\n",
      "\n",
      "Text: It's Windy!\n",
      "Prediction: Not a Real Disaster\n",
      "\n",
      "Text: The Palisade wildfire has damaged over 7,000 structures.\n",
      "Prediction: Real Disaster\n",
      "\n",
      "Text: I dropped my pencil and I am too lazy to pick it up myself\n",
      "Prediction: Not a Real Disaster\n",
      "\n",
      "Text: Oh no!\n",
      "Prediction: Not a Real Disaster\n",
      "\n",
      "Text: What about the MEG?!?!\n",
      "Prediction: Not a Real Disaster\n",
      "\n"
     ]
    }
   ],
   "source": [
    "new_text = [\n",
    "    \"BREAKING: Massve earthquake hits the coast\",\n",
    "    \"I love watching disaster movies on Netflix\",\n",
    "    \"Thousands evacuated as hurricance approaches\",\n",
    "    \"Theeeesssss is a disassterrrrr\",\n",
    "    \"It's Windy!\",\n",
    "    \"The Palisade wildfire has damaged over 7,000 structures.\",\n",
    "    \"I dropped my pencil and I am too lazy to pick it up myself\",\n",
    "    \"Oh no!\",\n",
    "    \"What about the MEG?!?!\"\n",
    "]\n",
    "\n",
    "# Preprocess new phrases\n",
    "cleaned_new_text =[preprocess(text) for text in new_text]\n",
    "\n",
    "# Transform using TF-IDF vectorizer\n",
    "new_features = tfidf_vectorizer.transform(cleaned_new_text)\n",
    "\n",
    "# Make predictions\n",
    "\n",
    "predictions = lr_model.predict(new_features)\n",
    "\n",
    "# Check outcomes\n",
    "for text, pred in zip(new_text, predictions):\n",
    "    print(f\"Text: {text}\")\n",
    "    print(f\"Prediction: {'Real Disaster' if pred == 1 else 'Not a Real Disaster'}\\n\")"
   ]
  },
  {
   "cell_type": "code",
   "execution_count": null,
   "id": "e11e11c1-a6b3-4454-8b74-16290a72830e",
   "metadata": {},
   "outputs": [],
   "source": []
  }
 ],
 "metadata": {
  "kernelspec": {
   "display_name": "Anaconda 3 (EDS232)",
   "language": "python",
   "name": "ml-env"
  },
  "language_info": {
   "codemirror_mode": {
    "name": "ipython",
    "version": 3
   },
   "file_extension": ".py",
   "mimetype": "text/x-python",
   "name": "python",
   "nbconvert_exporter": "python",
   "pygments_lexer": "ipython3",
   "version": "3.10.16"
  }
 },
 "nbformat": 4,
 "nbformat_minor": 5
}
