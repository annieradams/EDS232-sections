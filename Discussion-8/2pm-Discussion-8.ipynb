{
 "cells": [
  {
   "cell_type": "markdown",
   "id": "c4ac5f72-45f0-4822-8e3e-67ed89695caf",
   "metadata": {},
   "source": [
    "### Load libraries and data"
   ]
  },
  {
   "cell_type": "code",
   "execution_count": 1,
   "id": "646f31b2-5470-4723-8b80-7980ea199d42",
   "metadata": {
    "tags": []
   },
   "outputs": [],
   "source": [
    "import numpy as np\n",
    "import os\n",
    "from PIL import Image\n",
    "import matplotlib.pyplot as plt\n",
    "from sklearn.decomposition import PCA\n",
    "from sklearn.cluster import KMeans\n",
    "from matplotlib.patches import Patch\n",
    "from ipywidgets import IntSlider, interact, Layout\n",
    "from IPython.display import display\n",
    "import zipfile"
   ]
  },
  {
   "cell_type": "markdown",
   "id": "df72ef2b-c2ce-4ea5-96f9-288040b13944",
   "metadata": {},
   "source": [
    "#### Function to unzip the zipped plant data"
   ]
  },
  {
   "cell_type": "code",
   "execution_count": 2,
   "id": "ea0321d0-17d5-44c8-864e-b1ca988cc8d1",
   "metadata": {
    "tags": []
   },
   "outputs": [],
   "source": [
    "def unzip(zip_path, extract_to):\n",
    "    # Ensure the extraction directory exists\n",
    "    if not os.path.exists(extract_to):\n",
    "        os.makedirs(extract_to)\n",
    "\n",
    "    # Open the zip file\n",
    "    with zipfile.ZipFile(zip_path, 'r') as zip_ref:\n",
    "        # Extract all the contents into the directory\n",
    "        zip_ref.extractall(extract_to)\n",
    "        print(f\"Files extracted to {extract_to}\")\n",
    "        \n"
   ]
  },
  {
   "cell_type": "markdown",
   "id": "f40255d9-7d00-4140-b590-9a8c8edd2e4f",
   "metadata": {},
   "source": [
    "Use the function above to unzip your data folder. The first argument in the function is locating your zip file, and the second is picking a location/ file name for your new folder."
   ]
  },
  {
   "cell_type": "markdown",
   "id": "49bd7457-c022-41bf-841b-f603086c37f9",
   "metadata": {},
   "source": [
    "\n",
    "`unzip('/path/to/zipped/file.zip', 'path/to/unzipped/folder')`\n"
   ]
  },
  {
   "cell_type": "markdown",
   "id": "794c406b-8c6f-46b6-8069-6845d7e345d4",
   "metadata": {},
   "source": [
    "Now that we have our data in the correct format (unzipped!), let's preprocess our data."
   ]
  },
  {
   "cell_type": "markdown",
   "id": "24143393-0962-4bf3-b73e-5fbc7b297dfd",
   "metadata": {},
   "source": [
    "### Preprocess data"
   ]
  },
  {
   "cell_type": "markdown",
   "id": "84e3e155-af90-4cee-b8ed-36ade24f3586",
   "metadata": {},
   "source": [
    "#### Function to load image data"
   ]
  },
  {
   "cell_type": "code",
   "execution_count": 3,
   "id": "a4d7df43-5322-42ba-ae33-77291f2a1316",
   "metadata": {},
   "outputs": [
    {
     "name": "stdin",
     "output_type": "stream",
     "text": [
      "Enter path to the folder containing disease folders:  plant_dataset\n"
     ]
    },
    {
     "name": "stdout",
     "output_type": "stream",
     "text": [
      "Loading from Apple___Apple_scab...\n",
      "Loading from Apple___Black_rot...\n",
      "Loading from Apple___Cedar_apple_rust...\n",
      "Loading from Apple___healthy...\n",
      "Loading from Background_without_leaves...\n",
      "Loading from Blueberry___healthy...\n",
      "Loading from Cherry___Powdery_mildew...\n",
      "Loading from Cherry___healthy...\n",
      "Loading from Corn___Cercospora_leaf_spot Gray_leaf_spot...\n",
      "Loading from Corn___Common_rust...\n",
      "Loading from Corn___Northern_Leaf_Blight...\n",
      "Loading from Corn___healthy...\n",
      "Loading from Grape___Black_rot...\n",
      "Loading from Grape___Esca_(Black_Measles)...\n",
      "Loading from Grape___Leaf_blight_(Isariopsis_Leaf_Spot)...\n",
      "Loading from Grape___healthy...\n",
      "Loading from Orange___Haunglongbing_(Citrus_greening)...\n",
      "Loading from Peach___Bacterial_spot...\n",
      "Loading from Peach___healthy...\n",
      "Loading from Pepper,_bell___Bacterial_spot...\n",
      "Loading from Pepper,_bell___healthy...\n",
      "Loading from Potato___Early_blight...\n",
      "Loading from Potato___Late_blight...\n",
      "Loading from Potato___healthy...\n",
      "Loading from Raspberry___healthy...\n",
      "Loading from Soybean___healthy...\n",
      "Loading from Squash___Powdery_mildew...\n",
      "Loading from Strawberry___Leaf_scorch...\n",
      "Loading from Strawberry___healthy...\n",
      "Loading from Tomato___Bacterial_spot...\n",
      "Loading from Tomato___Early_blight...\n",
      "Loading from Tomato___Late_blight...\n",
      "Loading from Tomato___Leaf_Mold...\n",
      "Loading from Tomato___Septoria_leaf_spot...\n",
      "Loading from Tomato___Spider_mites Two-spotted_spider_mite...\n",
      "Loading from Tomato___Target_Spot...\n",
      "Loading from Tomato___Tomato_Yellow_Leaf_Curl_Virus...\n",
      "Loading from Tomato___Tomato_mosaic_virus...\n",
      "Loading from Tomato___healthy...\n",
      "Loaded 780 images from 39 disease classes\n"
     ]
    }
   ],
   "source": [
    "# Function to open and standardize images used in model\n",
    "\n",
    "def load_images(base_path, max_per_folder=20):\n",
    "    images = [] # Empty list to store images\n",
    "    labels = [] # Empty list to store label of each images\n",
    "    class_names = [] # Empty list to store the names of the folders for all images\n",
    "\n",
    "    for i, folder in enumerate(sorted(os.listdir(base_path))):\n",
    "        folder_path = os.path.join(base_path, folder) # Join base path with folders to iterate over\n",
    "        if not os.path.isdir(folder_path):\n",
    "            continue\n",
    "\n",
    "        class_names.append(folder)\n",
    "        print(f\"Loading from {folder}...\")\n",
    "\n",
    "        count = 0\n",
    "        for img_file in os.listdir(folder_path): # Iterate over each item in each folder\n",
    "            if count >= max_per_folder: # Stop when counter gets to 20 images\n",
    "                break\n",
    "\n",
    "            if img_file.lower().endswith(('.png', '.jpg', '.jpeg')): # Ensure file in folder is correct format\n",
    "                try:\n",
    "                    img_path = os.path.join(folder_path, img_file)\n",
    "                    with Image.open(img_path) as img: # Open image\n",
    "                        img = img.convert('RGB') # Convert it to RGB to standardize color channels\n",
    "                        img = img.resize((100, 100), Image.Resampling.LANCZOS) # Resize image using LANCZOS resampling method\n",
    "\n",
    "                    images.append(np.array(img)) # Convert image to array and add to image list\n",
    "                    labels.append(i) # Add label to label list \n",
    "                    count += 1\n",
    "                except Exception as e: # Print error message if error with a file\n",
    "                    print(f\"Error with {img_file}: {e}\")\n",
    "\n",
    "    return np.array(images), np.array(labels), class_names\n",
    "\n",
    "data_path = input(\"Enter path to the folder containing disease folders: \")\n",
    "images, labels, class_names = load_images(data_path)\n",
    "print(f\"Loaded {len(images)} images from {len(class_names)} disease classes\")\n"
   ]
  },
  {
   "cell_type": "markdown",
   "id": "a303b00f-fcce-4e1f-9cc0-e5bfa8928e24",
   "metadata": {},
   "source": [
    "### More preprocessing ..."
   ]
  },
  {
   "cell_type": "markdown",
   "id": "05913cb8-75fe-454c-b140-25a37ebabb9f",
   "metadata": {},
   "source": [
    "#### Extract features from data and perform PCA"
   ]
  },
  {
   "cell_type": "code",
   "execution_count": 6,
   "id": "a09e7857-8d0c-44c9-ba03-7d6491752a43",
   "metadata": {
    "tags": []
   },
   "outputs": [
    {
     "name": "stdout",
     "output_type": "stream",
     "text": [
      "Feature shape: (780, 768)\n",
      "Reduced features shape: (780, 2)\n"
     ]
    },
    {
     "data": {
      "text/plain": [
       "array([[-0.00282353, -0.02355505],\n",
       "       [-0.00503365, -0.00732916],\n",
       "       [-0.00255762, -0.02884261],\n",
       "       ...,\n",
       "       [-0.00308965, -0.02260995],\n",
       "       [-0.0022436 , -0.01259051],\n",
       "       [-0.00139566, -0.01875976]], dtype=float32)"
      ]
     },
     "execution_count": 6,
     "metadata": {},
     "output_type": "execute_result"
    }
   ],
   "source": [
    "# Function to extract features and perform PCA\n",
    "def extract_features_and_reduce(images): \n",
    "    features = []\n",
    "    for img_array in images: \n",
    "        img = Image.fromarray(img_array)\n",
    "        histogram = np.array(img.histogram()).astype('float32') # Create histogram of image\n",
    "        histogram = histogram/histogram.sum() # Normalizing histogram\n",
    "        features.append(histogram)\n",
    "    features = np.array(features)\n",
    "    print(f\"Feature shape: {features.shape}\")\n",
    "    \n",
    "    # Perform PCA\n",
    "    pca = PCA(n_components = 2)\n",
    "    reduced_features = pca.fit_transform(features) # Fit PCA to feature matrix\n",
    "    print(f\"Reduced features shape: {reduced_features.shape}\")\n",
    "    \n",
    "    return reduced_features\n",
    "        \n",
    "features = extract_features_and_reduce(images)\n",
    "features\n"
   ]
  },
  {
   "cell_type": "markdown",
   "id": "e1e12374-aae5-49be-a71a-46c530075002",
   "metadata": {},
   "source": [
    "### Create an interactive widget and visualize clustering"
   ]
  },
  {
   "cell_type": "markdown",
   "id": "e43da596-4176-4090-bfdf-d482d3bf586d",
   "metadata": {},
   "source": [
    "#### Function to run a KMeans model and create a visualization"
   ]
  },
  {
   "cell_type": "code",
   "execution_count": 10,
   "id": "bb97496c-ab24-4aed-ad1c-e0cd03d62390",
   "metadata": {
    "tags": []
   },
   "outputs": [
    {
     "data": {
      "application/vnd.jupyter.widget-view+json": {
       "model_id": "79d8f5de1c0c4c69a6c5a8fe5d62c052",
       "version_major": 2,
       "version_minor": 0
      },
      "text/plain": [
       "interactive(children=(IntSlider(value=3, description='Clusters:', layout=Layout(width='80%'), max=15, min=2), …"
      ]
     },
     "metadata": {},
     "output_type": "display_data"
    },
    {
     "data": {
      "text/plain": [
       "None"
      ]
     },
     "metadata": {},
     "output_type": "display_data"
    }
   ],
   "source": [
    "# Function to create interactive widget for clustering with visualization\n",
    "\n",
    "def create_interactive_widget(images, features, labels, class_names): \n",
    "    slider = IntSlider(value= 3, min = 2, max = 15, description = 'Clusters:', layout = Layout(width = '80%'))\n",
    "    \n",
    "    # Function that updates clusters based on slider input from user\n",
    "    def update_clusters(cluster_num):\n",
    "        \n",
    "        plt.figure(figsize = (15,7))\n",
    "        \n",
    "        kmeans = KMeans(n_clusters = cluster_num, random_state = 42, n_init = 10)\n",
    "        cluster_labels = kmeans.fit_predict(features)\n",
    "        \n",
    "        # Visualize clusters\n",
    "        scatter = plt.scatter(features[:,0], features[:, 1], c = cluster_labels, cmap = \"viridis\")\n",
    "        plt.title('PCA Reduced Features by Cluster Labels')\n",
    "        plt.xlabel('PCA Component 1')\n",
    "        plt.ylabel('PCA Component 2')\n",
    "        plt.grid(True)\n",
    "        \n",
    "        # update legend\n",
    "        colors = plt.cm.viridis(np.linspace(0,1, cluster_num))\n",
    "        \n",
    "        legends = [Patch(facecolor = clr, label = f'Cluster {i+1}') for i,clr, in enumerate(colors)]\n",
    "        plt.legend(handles = legends, title= \"Clusters\")\n",
    "        \n",
    "        # Show plot\n",
    "        plt.tight_layout()\n",
    "        plt.show()\n",
    "        \n",
    "        # Print observation results for each cluster\n",
    "        print(f\"Results for {cluster_num} clusters:\")\n",
    "        \n",
    "        for i in range(cluster_num): \n",
    "            print(f\"Cluster {i+1}: {np.sum(cluster_labels == i)} samples\")\n",
    "            \n",
    "        # Display a few images from each cluster\n",
    "        for i in range(cluster_num): \n",
    "            \n",
    "            plt.figure(figsize = (15,5))\n",
    "            \n",
    "            # Find the indices of all imgages that belong to the current cluster\n",
    "            cluster_indices = np.where(cluster_labels == i)[0]\n",
    "            \n",
    "            # Randomly select 5 indices for each cluster\n",
    "            selected_indices = np.random.choice(cluster_indices, min(len(cluster_indices), 5), replace = False)\n",
    "            \n",
    "            for j, idx in enumerate(selected_indices): \n",
    "                \n",
    "                plt.subplot(1, 5, j+1)\n",
    "                plt.imshow(images[idx])\n",
    "                plt.title(f\"Cluster {i+1}\")\n",
    "                plt.axis('off')\n",
    "            plt.show()\n",
    "\n",
    "    interact(update_clusters, cluster_num = slider)\n",
    "    \n",
    "\n",
    "    \n",
    "knn_widget = create_interactive_widget(images, features, labels, class_names)\n",
    "display(knn_widget)\n",
    "            "
   ]
  },
  {
   "cell_type": "code",
   "execution_count": null,
   "id": "9a9fbe59-f1dc-48cf-80e2-c5bf2173279f",
   "metadata": {},
   "outputs": [],
   "source": []
  },
  {
   "cell_type": "code",
   "execution_count": null,
   "id": "a2674acd-3bab-4010-86bb-abb98329346c",
   "metadata": {},
   "outputs": [],
   "source": []
  }
 ],
 "metadata": {
  "kernelspec": {
   "display_name": "Anaconda 3 (EDS232)",
   "language": "python",
   "name": "ml-env"
  },
  "language_info": {
   "codemirror_mode": {
    "name": "ipython",
    "version": 3
   },
   "file_extension": ".py",
   "mimetype": "text/x-python",
   "name": "python",
   "nbconvert_exporter": "python",
   "pygments_lexer": "ipython3",
   "version": "3.10.16"
  }
 },
 "nbformat": 4,
 "nbformat_minor": 5
}
