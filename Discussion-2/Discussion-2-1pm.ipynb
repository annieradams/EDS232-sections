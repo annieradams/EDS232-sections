{
 "cells": [
  {
   "cell_type": "markdown",
   "id": "27fdf696-ac6f-44b0-a186-70c7036b1afc",
   "metadata": {},
   "source": [
    "# Regularized Regression"
   ]
  },
  {
   "cell_type": "markdown",
   "id": "49b6d1e5-87b8-40c4-bb70-ac82b707d334",
   "metadata": {},
   "source": [
    "To better understand the relationship between linear regression, ridge regression,and lasso, we will be working with synthetic data in this lab. Let's start by learning a bit more about our fake dataset and preparing our data for regression."
   ]
  },
  {
   "cell_type": "code",
   "execution_count": 3,
   "id": "e9e5d7c6-78f0-42c1-b7d5-81becba6884a",
   "metadata": {
    "tags": []
   },
   "outputs": [],
   "source": [
    "# Import necessary libraries\n",
    "import numpy as np\n",
    "import pandas as pd\n",
    "import matplotlib.pyplot as plt\n",
    "from sklearn.model_selection import train_test_split\n",
    "from sklearn.linear_model import Lasso, Ridge\n",
    "from sklearn.metrics import mean_squared_error, r2_score\n",
    "from sklearn.metrics import mean_squared_error, r2_score\n",
    "from ipywidgets import interact, FloatLogSlider\n",
    "\n",
    "# Seed for reproducibility\n",
    "np.random.seed(0)\n",
    "\n",
    "# Generate data\n",
    "np.random.seed(42)\n",
    "n_samples = 200\n",
    "X = np.zeros((n_samples, 6))\n",
    "X[:, 0] = np.random.normal(0, 1, n_samples)  # Important feature\n",
    "X[:, 1] = np.random.normal(0, 1, n_samples)  # Important feature\n",
    "X[:, 2] = X[:, 0] + np.random.normal(0, 0.1, n_samples)  # Correlated with X1\n",
    "X[:, 3] = X[:, 1] + np.random.normal(0, 0.1, n_samples)  # Correlated with X2\n",
    "X[:, 4] = np.random.normal(0, 0.1, n_samples)  # Noise\n",
    "X[:, 5] = np.random.normal(0, 0.1, n_samples)  # Noise\n",
    "\n",
    "y = 3 * X[:, 0] + 2 * X[:, 1] + 0.5 * X[:, 2] + np.random.normal(0, 0.1, n_samples)\n"
   ]
  },
  {
   "cell_type": "code",
   "execution_count": 5,
   "id": "1f6f1c63-5c8e-43f2-af45-d54c51004866",
   "metadata": {
    "tags": []
   },
   "outputs": [],
   "source": [
    "# Split data into training and testing sets\n",
    "X_train, X_test, y_train, y_test = train_test_split(X, y, test_size = 0.3, random_state = 42)"
   ]
  },
  {
   "cell_type": "code",
   "execution_count": 7,
   "id": "45259eb6-0944-4a3f-b3dc-6ac9ef61a684",
   "metadata": {
    "tags": []
   },
   "outputs": [
    {
     "name": "stdout",
     "output_type": "stream",
     "text": [
      "Ridge Regression RMSE: 0.14410020171824975\n",
      "Ridge Regression R²: 0.9984722762470865\n"
     ]
    }
   ],
   "source": [
    "# Create and fit Ridge regression model\n",
    "ridge_model = Ridge()\n",
    "ridge_model.fit(X_train, y_train)\n",
    "ridge_predictions = ridge_model.predict(X_test)\n",
    "\n",
    "# Calculate RMSE and R^2 for Ridge regression\n",
    "\n",
    "ridge_rmse = np.sqrt(mean_squared_error(y_test, ridge_predictions))\n",
    "ridge_r2 = r2_score(y_test, ridge_predictions)\n",
    "print(\"Ridge Regression RMSE:\", ridge_rmse)\n",
    "print(\"Ridge Regression R²:\", ridge_r2)\n",
    "\n",
    "\n"
   ]
  },
  {
   "cell_type": "code",
   "execution_count": 8,
   "id": "088ffda8-a551-435f-8ea9-6d0be4db322f",
   "metadata": {
    "tags": []
   },
   "outputs": [
    {
     "name": "stdout",
     "output_type": "stream",
     "text": [
      "Lasso Regression RMSE: 1.2984978990079017\n",
      "Lasso Regression R²: 0.8759496036905758\n"
     ]
    }
   ],
   "source": [
    "# Create and fit Lasso regression model\n",
    "lasso_model = Lasso()\n",
    "lasso_model.fit(X_train, y_train)\n",
    "lasso_predictions = lasso_model.predict(X_test)\n",
    "\n",
    "# Calculate RMSE and R^2 for Lasso regression\n",
    "lasso_rmse = np.sqrt(mean_squared_error(y_test, lasso_predictions))\n",
    "lasso_r2 = r2_score(y_test, lasso_predictions)\n",
    "\n",
    "print(\"Lasso Regression RMSE:\", lasso_rmse)\n",
    "print(\"Lasso Regression R²:\", lasso_r2)"
   ]
  },
  {
   "cell_type": "code",
   "execution_count": null,
   "id": "106d02bb-f99c-40cc-8df1-8f44c9a6e0ea",
   "metadata": {
    "scrolled": true,
    "tags": []
   },
   "outputs": [],
   "source": [
    "# Visualize alphas against RMSE for lasso and ridge\n",
    "\n",
    "\n",
    "plt.figure(figsize=(10, 5))\n",
    "plt.plot(alphas, rmse_lasso, label='Lasso MSE')\n",
    "plt.plot(alphas, rmse_ridge, label='Ridge MSE')\n",
    "plt.xscale('log')\n",
    "plt.xlabel('Alpha')\n",
    "plt.ylabel('Root Mean Squared Error')\n",
    "plt.title('RMSE vs. Alpha for Lasso and Ridge Regression')\n",
    "plt.legend()\n",
    "plt.show()\n",
    "\n"
   ]
  },
  {
   "cell_type": "code",
   "execution_count": null,
   "id": "855f2b6e-741c-4bd4-880c-dd538e717b12",
   "metadata": {
    "tags": []
   },
   "outputs": [],
   "source": [
    "# Create function for creaing plot\n",
    "\n"
   ]
  },
  {
   "cell_type": "markdown",
   "id": "920424d8-8126-4a3b-a760-e44ff595cb03",
   "metadata": {},
   "source": [
    "### Coefficient Bar Plot"
   ]
  },
  {
   "cell_type": "code",
   "execution_count": 9,
   "id": "755cc1e2-056a-4a17-b554-4e6975c3ae1e",
   "metadata": {},
   "outputs": [
    {
     "data": {
      "image/png": "[encoded data removed]",
      "text/plain": [
       "<Figure size 1500x500 with 3 Axes>"
      ]
     },
     "metadata": {},
     "output_type": "display_data"
    }
   ],
   "source": [
    "alphas = [0.1, 1, 10]\n",
    "data = []\n",
    "\n",
    "\n",
    "for alpha in alphas: \n",
    "    ridge = Ridge(alpha = alpha).fit(X,y)\n",
    "    lasso = Lasso(alpha = alpha).fit(X,y)\n",
    "    \n",
    "    data.append(pd.DataFrame({\n",
    "        'Ridge': ridge.coef_,\n",
    "        'Lasso': lasso.coef_\n",
    "    }, index = ['X1', 'X2', 'X1_corr', 'X2_Corr', 'Noise1', 'Noise2']))\n",
    "                \n",
    "\n",
    "fig, axes = plt.subplots(1, 3, figsize = (15,5), sharey = True)\n",
    "for i,df in enumerate(data):\n",
    "    df.plot.bar(ax = axes[i], width = 0.8)\n",
    "    axes[i].set_title(f'Alpha = {alphas[i]}')\n",
    "    axes[i].set_xticklabels(df.index, rotation = 45)\n",
    "    \n",
    "plt.show()\n",
    "        \n",
    "        "
   ]
  },
  {
   "cell_type": "code",
   "execution_count": 15,
   "id": "68c0be97-cab7-4c76-a716-6b4dab7a75dd",
   "metadata": {},
   "outputs": [
    {
     "data": {
      "application/vnd.jupyter.widget-view+json": {
       "model_id": "9b781eb6018b40c9b198326410f6b187",
       "version_major": 2,
       "version_minor": 0
      },
      "text/plain": [
       "interactive(children=(FloatLogSlider(value=1.0, description='Alpha', max=3.0, min=-3.0), Dropdown(description=…"
      ]
     },
     "metadata": {},
     "output_type": "display_data"
    },
    {
     "data": {
      "text/plain": [
       "<function __main__.update_alphas(alpha, model_type)>"
      ]
     },
     "execution_count": 15,
     "metadata": {},
     "output_type": "execute_result"
    }
   ],
   "source": [
    "# Function for generating plot\n",
    "def update_alphas(alpha, model_type):\n",
    "    if model_type == 'Lasso':\n",
    "        model = Lasso(alpha = alpha)\n",
    "    else:\n",
    "        model = Ridge(alpha = alpha)\n",
    "        \n",
    "    model.fit(X_train, y_train)\n",
    "    y_pred = model.predict(X_test)\n",
    "    \n",
    "    rmse = np.sqrt(mean_squared_error(y_test, y_pred))\n",
    "    r2 = r2_score(y_test, y_pred)\n",
    "    \n",
    "    \n",
    "    plt.figure(figsize = (10,5))\n",
    "    plt.scatter(y_test, y_pred, color = 'blue', alpha = 0.5, label = f'Predictions (alpha = {alpha})')\n",
    "    plt.plot([y_test.min(),y_test.max()], [y_test.min(), y_test.max()], 'k--',lw =2)\n",
    "    plt.title(f'{model_type} Reression: Predictions vs Actual (alpha={alpha})')\n",
    "    plt.xlabel('Actual values')\n",
    "    plt.ylabel('Predicted values')\n",
    "    plt.legend()\n",
    "    plt.figtext(0.5, -.05, f'RMSe: {rmse}, R2: {r2}', ha = \"center\", fontsize = 12, bbox= {\"facecolor\": \"orange\"})\n",
    "    plt.show()\n",
    "    \n",
    "    \n",
    "#Create interactive widgets \n",
    "alpha_slider = FloatLogSlider(value = 1.0, base = 10, min = -3, max = 3, step = 0.1, description=  'Alpha')\n",
    "model_selector = {'Lasso Model': 'Lasso', 'Ridge': 'Ridge'}\n",
    "\n",
    "interact(update_alphas, alpha = alpha_slider, model_type = model_selector)\n"
   ]
  },
  {
   "cell_type": "code",
   "execution_count": null,
   "id": "eb55704c-61be-47de-b08d-697ccba7bc15",
   "metadata": {},
   "outputs": [],
   "source": []
  }
 ],
 "metadata": {
  "kernelspec": {
   "display_name": "Anaconda 3 (EDS232)",
   "language": "python",
   "name": "ml-env"
  },
  "language_info": {
   "codemirror_mode": {
    "name": "ipython",
    "version": 3
   },
   "file_extension": ".py",
   "mimetype": "text/x-python",
   "name": "python",
   "nbconvert_exporter": "python",
   "pygments_lexer": "ipython3",
   "version": "3.10.16"
  }
 },
 "nbformat": 4,
 "nbformat_minor": 5
}
