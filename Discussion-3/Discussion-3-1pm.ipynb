{
 "cells": [
  {
   "cell_type": "markdown",
   "id": "0a43dfef-788f-460c-9e27-c50d5bd2dd37",
   "metadata": {},
   "source": [
    "## Discussion Week 3: Better understanding the effect of class imbalances"
   ]
  },
  {
   "cell_type": "markdown",
   "id": "94109785-848c-4774-bc75-3c9f823644d4",
   "metadata": {},
   "source": [
    "### Load libraries"
   ]
  },
  {
   "cell_type": "code",
   "execution_count": 1,
   "id": "b3832298-be56-44d5-ae57-34900d697585",
   "metadata": {
    "tags": []
   },
   "outputs": [],
   "source": [
    "# Import necessary libraries\n",
    "import numpy as np\n",
    "import pandas as pd\n",
    "from sklearn.model_selection import train_test_split\n",
    "from sklearn.linear_model import LogisticRegression\n",
    "from sklearn.metrics import roc_curve, auc, confusion_matrix\n",
    "import matplotlib.pyplot as plt\n",
    "from ipywidgets import interact, FloatSlider\n",
    "import seaborn as sns"
   ]
  },
  {
   "cell_type": "markdown",
   "id": "67a74279-7709-41ec-91f0-45077745e1aa",
   "metadata": {},
   "source": [
    "### Generate species data"
   ]
  },
  {
   "cell_type": "code",
   "execution_count": 2,
   "id": "4f038298-bce2-4b2e-a843-ce316e80f9ba",
   "metadata": {
    "tags": []
   },
   "outputs": [],
   "source": [
    "def generate_species_data(n_samples=1000, presence_ratio=0.3):\n",
    "    #Calculate number of samples for each class\n",
    "    n_present = int(n_samples * presence_ratio)\n",
    "    n_absent = n_samples - n_present\n",
    "    \n",
    "    # Generate features for presence sites \n",
    "    # Green crabs prefer warmer temps (between 64 and 79 degrees Fahrenheit) and  salinity between 26 and 39 ppt\n",
    "    temp_present = np.random.normal(loc=71, scale= 4, size=n_present)\n",
    "    salinity_present = np.random.normal(loc=32, scale=3, size=n_present)\n",
    "    X_present = np.column_stack([temp_present, salinity_present])\n",
    "    y_present = np.ones(n_present)\n",
    "    \n",
    "    # Generate features for absence sites\n",
    "    # Sites with warmer temps or lower salinity\n",
    "    temp_absent = np.random.normal(loc=26, scale=3, size=n_absent)\n",
    "    salinity_absent = np.random.normal(loc=28, scale=2, size=n_absent)\n",
    "    X_absent = np.column_stack([temp_absent, salinity_absent])\n",
    "    y_absent = np.zeros(n_absent)\n",
    "    \n",
    "    # Combine and shuffle the data\n",
    "    X = np.concatenate([X_present, X_absent])\n",
    "    y = np.concatenate([y_present, y_absent])\n",
    "    \n",
    "    # Shuffle the data\n",
    "    shuffle_idx = np.random.permutation(n_samples)\n",
    "    X = X[shuffle_idx]\n",
    "    y = y[shuffle_idx]\n",
    "    return X, y"
   ]
  },
  {
   "cell_type": "markdown",
   "id": "0d2845fd-6280-4f53-b199-7e373ae14b7b",
   "metadata": {},
   "source": [
    "#### Create a function that creats a bar plot of species presense distribution"
   ]
  },
  {
   "cell_type": "code",
   "execution_count": 3,
   "id": "701c357b-aa5e-4ee8-99f2-13be9f8f82ba",
   "metadata": {
    "tags": []
   },
   "outputs": [],
   "source": [
    "def plot_class_distribution(y):\n",
    "    \n",
    "    plt.figure(figsize = (8,4))\n",
    "    \n",
    "    # Count the values in each category\n",
    "    class_counts = pd.Series(y).value_counts().sort_index()\n",
    "    \n",
    "    # Create a barplot of Absent and present species\n",
    "    sns.barplot(x = ['Absent', 'Present'], y = class_counts, color = '#005477')\n",
    "    plt.title('Dist of Species Present/ Absent')\n",
    "    plt.ylabel('Number of Sampling sites')\n",
    "    \n",
    "    # Add percent over each bar\n",
    "    total = len(y)\n",
    "    for i, count in enumerate(class_counts):\n",
    "        percentage = count/total * 100\n",
    "        plt.text(i, count, f'{percentage:.1f}%', ha = 'center', va = 'bottom')\n",
    "    plt.show()\n",
    "    \n",
    "    "
   ]
  },
  {
   "cell_type": "markdown",
   "id": "aadd39f6-2302-427b-b762-fa72c6ce6233",
   "metadata": {
    "tags": []
   },
   "source": [
    "#### Create a function that plots a confusion matrix"
   ]
  },
  {
   "cell_type": "code",
   "execution_count": 4,
   "id": "5cef8068-e33b-4941-bf8d-703bd35e426e",
   "metadata": {
    "tags": []
   },
   "outputs": [],
   "source": [
    "def plot_confusion_matrix(y_true, y_pred):\n",
    "    \n",
    "    # Create confusion matrix\n",
    "    cm = confusion_matrix(y_true, y_pred)\n",
    "    \n",
    "    # Create confusion matrix plot\n",
    "    \n",
    "    plt.figure(figsize = (8,6))\n",
    "    sns.heatmap(cm, annot = True, fmt = 'd', cmap = 'GnBu',\n",
    "               xticklabels = ['Absent', 'Present'],\n",
    "               yticklabels = ['Absent', 'Present'])\n",
    "    plt.title('Confusion Matrix')\n",
    "    plt.ylabel('True Label')\n",
    "    plt.xlabel('Predicted Label')\n",
    "    plt.show()\n",
    "    \n",
    "    \n",
    "    # Calculate metrics\n",
    "    TP = cm[1,1]\n",
    "    TN = cm[0,0]\n",
    "    FP = cm[0,1]\n",
    "    FN = cm[1,0]\n",
    "    \n",
    "    print(\"\\nMetrics from Confusion Matrix:\")\n",
    "    print(f\"True Positives  (correctly predicted presence): {TP}\")\n",
    "    print(f\"True Negatives  (correctly predicted absence): {TN}\")\n",
    "    print(f\"False Positives (incorrectly predicted presence): {FP}\")\n",
    "    print(f\"False Negatives (incorrectly predicted absence): {FN}\")\n",
    "    \n",
    "    \n",
    "    # Calculate accuracy\n",
    "    accuracy = (TP + TN)/ (TP + TN + FP + FN)\n",
    "    majority_baseline = max(np.mean(y_true), 1-np.mean(y_true))\n",
    "    sensitivity = TP/ (TP + FN)\n",
    "    specificity = TN/ (TN + FP)\n",
    "    \n",
    "    # Print metrics\n",
    "    print(f\"\\nModel Performance Metrics:\")\n",
    "    print(f\"Accuracys: {accuracy:.3f}\")\n",
    "    print(f\"Sensitivity (True positive rate): {sensitivity:.3f}\")\n",
    "    print(f\"Specificity (True Negative Rate): {specificity:.3f}\")\n",
    "    "
   ]
  },
  {
   "cell_type": "markdown",
   "id": "85e7ecb0-7288-4e63-9f2f-e5fc6fde3d2b",
   "metadata": {},
   "source": [
    "#### Create a function that plots an ROC curve"
   ]
  },
  {
   "cell_type": "code",
   "execution_count": 5,
   "id": "6a31be64-0461-4aef-997e-deaf416e8e20",
   "metadata": {
    "tags": []
   },
   "outputs": [],
   "source": [
    "def plot_roc_curve(y_test, y_pred_prob):\n",
    "    \n",
    "    fpr, tpr, _ = roc_curve(y_test, y_pred_prob)\n",
    "    roc_auc = auc(fpr, tpr)\n",
    "    \n",
    "    plt.figure(figsize = (8,6))\n",
    "    plt.plot(fpr, tpr, color = 'darkorange', lw =2, \n",
    "            label = f'ROC Curve (AUC = {roc_auc:.2f})')\n",
    "    plt.plot([0,1], [0,1], color = 'navy', lw = 2, linestyle = '--',\n",
    "            label = 'Random Classifier (AUC = 0.5)')\n",
    "    plt.xlabel('False Positive Rate')\n",
    "    plt.ylabel('True Positive Rate')\n",
    "    plt.title('ROC Curve: Species PResence Prediction')\n",
    "    plt.legend()\n",
    "    plt.grid(True)\n",
    "    plt.show()"
   ]
  },
  {
   "cell_type": "markdown",
   "id": "df1cea31-be7c-4603-acf8-c5a5fac1ecef",
   "metadata": {},
   "source": [
    "### Create function that runs a logistic regression and outputs a distrubtion plot, confusion matrix, and ROC curve"
   ]
  },
  {
   "cell_type": "code",
   "execution_count": 10,
   "id": "175d6062-ea81-4861-8fe8-6f85a53a0d4f",
   "metadata": {
    "tags": []
   },
   "outputs": [],
   "source": [
    "def interactive_logistic_regression(presence_ratio = 0.3):\n",
    "    X, y = generate_species_data(presence_ratio = presence_ratio)\n",
    "    \n",
    "    # Plot class distribution\n",
    "    print(\"\\nClass Distribution\")\n",
    "    plot_class_distribution(y)\n",
    "    \n",
    "    # Split the data\n",
    "    X_train, X_test, y_train, y_test = train_test_split(X,y, test_size = 0.99, random_state = 42)\n",
    "    \n",
    "    # Train the model \n",
    "    model = LogisticRegression()\n",
    "    model.fit(X_train, y_train)\n",
    "    \n",
    "    # Make my predictions \n",
    "    y_pred = model.predict(X_test)\n",
    "    y_pred_prob = model.predict_proba(X_test)[:, 1]\n",
    "    \n",
    "    # Plot confusion matrix\n",
    "    print(\"\\nConfusion Matrix\")\n",
    "    plot_confusion_matrix(y_test, y_pred)\n",
    "    \n",
    "    # Plot ROC curve\n",
    "    print(\"\\nROC Curve:\")\n",
    "    plot_roc_curve(y_test, y_pred_prob)"
   ]
  },
  {
   "cell_type": "markdown",
   "id": "d43f4dcb-4e5d-49be-b887-aa6ab1ccd733",
   "metadata": {},
   "source": [
    "#### Create interactivity"
   ]
  },
  {
   "cell_type": "code",
   "execution_count": 11,
   "id": "6db66f52-3246-43ae-82d9-437b631b60fa",
   "metadata": {
    "tags": []
   },
   "outputs": [
    {
     "data": {
      "application/vnd.jupyter.widget-view+json": {
       "model_id": "308b59f662eb4638b3ad872352631adb",
       "version_major": 2,
       "version_minor": 0
      },
      "text/plain": [
       "interactive(children=(FloatSlider(value=0.3, description='% Present', max=0.9, min=0.1), Output()), _dom_class…"
      ]
     },
     "metadata": {},
     "output_type": "display_data"
    }
   ],
   "source": [
    "# Create interactive widget \n",
    "def generate_log_regression():\n",
    "    interact(interactive_logistic_regression, \n",
    "            presence_ratio = FloatSlider(min = 0.1, max = 0.9, step = .1, value= 0.3,\n",
    "                                        description = \"% Present\")\n",
    "            )\n",
    "    \n",
    "generate_log_regression()"
   ]
  },
  {
   "cell_type": "code",
   "execution_count": null,
   "id": "d0d3697b-6567-4010-89a7-52baaab5689f",
   "metadata": {},
   "outputs": [],
   "source": []
  },
  {
   "cell_type": "code",
   "execution_count": null,
   "id": "ceae1bd5-b066-4167-aeb5-a44ee7bc7862",
   "metadata": {},
   "outputs": [],
   "source": []
  }
 ],
 "metadata": {
  "kernelspec": {
   "display_name": "Anaconda 3 (EDS232)",
   "language": "python",
   "name": "ml-env"
  },
  "language_info": {
   "codemirror_mode": {
    "name": "ipython",
    "version": 3
   },
   "file_extension": ".py",
   "mimetype": "text/x-python",
   "name": "python",
   "nbconvert_exporter": "python",
   "pygments_lexer": "ipython3",
   "version": "3.10.16"
  }
 },
 "nbformat": 4,
 "nbformat_minor": 5
}
