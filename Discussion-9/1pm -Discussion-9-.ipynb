{
 "cells": [
  {
   "cell_type": "markdown",
   "id": "4aa4871c-28ff-41fd-9fc9-744f16ce91f0",
   "metadata": {},
   "source": [
    "#### Load libraries and data"
   ]
  },
  {
   "cell_type": "code",
   "execution_count": 7,
   "id": "69c13e69-5602-40d6-b1b3-91c62879eea1",
   "metadata": {
    "tags": []
   },
   "outputs": [],
   "source": [
    "import numpy as np\n",
    "import pandas as pd\n",
    "from sklearn.preprocessing import StandardScaler\n",
    "from sklearn.model_selection import train_test_split\n",
    "from sklearn.svm import SVC\n",
    "import ipywidgets as widgets\n",
    "from IPython.display import display\n",
    "import matplotlib.pyplot as plt\n",
    "from matplotlib.lines import Line2D\n",
    "from sklearn.metrics import accuracy_score"
   ]
  },
  {
   "cell_type": "code",
   "execution_count": 4,
   "id": "a1d63d8d-c896-410c-b892-4d4aea66bc6f",
   "metadata": {
    "tags": []
   },
   "outputs": [],
   "source": [
    "# Set seed for reproducibility\n",
    "np.random.seed(42)\n",
    "# Generate Linearly Separable Data\n",
    "X1 = np.random.randn(100, 2) + [2, 2]\n",
    "X2 = np.random.randn(100, 2) + [5, 5]\n",
    "X_linear = np.vstack((X1, X2))\n",
    "y_linear = np.array([0]*100 + [1]*100)\n",
    "df_linear = pd.DataFrame(X_linear, columns=['Temperature', 'Humidity'])\n",
    "df_linear['Pollution_Level'] = y_linear\n",
    "\n",
    "# Generate Non-linearly Separable Data (Circular Boundaries)\n",
    "length = 200\n",
    "radius = 2\n",
    "angle = np.linspace(0, 2 * np.pi, length)\n",
    "X1_circular = np.vstack((np.sin(angle) * radius, np.cos(angle) * radius)).T + np.random.randn(length, 2) * 0.1\n",
    "X2_circular = np.random.randn(length, 2) * 0.5\n",
    "X_circular = np.vstack((X1_circular, X2_circular))\n",
    "y_circular = np.array([0] * length + [1] * length)\n",
    "df_circular = pd.DataFrame(X_circular, columns=['CO2_Emission', 'Water_Usage'])\n",
    "df_circular['Area_Type'] = y_circular\n",
    "\n",
    "# Generate XOR-like Data\n",
    "X1_xor = np.random.randn(50, 2) + [2, 2]\n",
    "X2_xor = np.random.randn(50, 2) + [2, 5]\n",
    "X3_xor = np.random.randn(50, 2) + [5, 2]\n",
    "X4_xor = np.random.randn(50, 2) + [5, 5]\n",
    "X_xor = np.vstack((X1_xor, X2_xor, X3_xor, X4_xor))\n",
    "y_xor = np.array([0]*100 + [1]*100)\n",
    "df_xor = pd.DataFrame(X_xor, columns=['Species_Count', 'Toxicity_Level'])\n",
    "df_xor['Habitat_Damage'] = y_xor\n",
    "\n",
    "# Generate Overlapping Data\n",
    "X1_overlap = np.random.randn(100, 2) + [3, 3]\n",
    "X2_overlap = np.random.randn(100, 2) + [4, 4]\n",
    "X_overlap = np.vstack((X1_overlap, X2_overlap))\n",
    "y_overlap = np.array([0]*100 + [1]*100)\n",
    "df_overlap = pd.DataFrame(X_overlap, columns=['Air_Quality', 'Noise_Level'])\n",
    "df_overlap['Health_Risk'] = y_overlap\n",
    "\n",
    "# Collect all datasets in a dictionary for easy access\n",
    "datasets = {\n",
    "    'linear_data': df_linear,\n",
    "    'circular_data': df_circular,\n",
    "    'xor_data': df_xor,\n",
    "    'overlapping_data': df_overlap\n",
    "}\n"
   ]
  },
  {
   "cell_type": "markdown",
   "id": "12ca184d-f71f-468f-bc87-ef446f094297",
   "metadata": {},
   "source": [
    "#### Create widget"
   ]
  },
  {
   "cell_type": "code",
   "execution_count": null,
   "id": "307eea59-6357-4fb9-a314-2191419359ae",
   "metadata": {},
   "outputs": [],
   "source": []
  }
 ],
 "metadata": {
  "kernelspec": {
   "display_name": "Anaconda 3 (EDS232)",
   "language": "python",
   "name": "ml-env"
  },
  "language_info": {
   "codemirror_mode": {
    "name": "ipython",
    "version": 3
   },
   "file_extension": ".py",
   "mimetype": "text/x-python",
   "name": "python",
   "nbconvert_exporter": "python",
   "pygments_lexer": "ipython3",
   "version": "3.10.16"
  }
 },
 "nbformat": 4,
 "nbformat_minor": 5
}
