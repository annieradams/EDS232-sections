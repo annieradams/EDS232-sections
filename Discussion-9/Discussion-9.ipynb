{
 "cells": [
  {
   "cell_type": "code",
   "execution_count": null,
   "id": "338260f5-254a-45f9-b6e6-385b896c3669",
   "metadata": {},
   "outputs": [],
   "source": [
    "l8_224078_20200518_polygons"
   ]
  }
 ],
 "metadata": {
  "kernelspec": {
   "display_name": "EDS 232",
   "language": "python",
   "name": "eds232-env"
  },
  "language_info": {
   "codemirror_mode": {
    "name": "ipython",
    "version": 3
   },
   "file_extension": ".py",
   "mimetype": "text/x-python",
   "name": "python",
   "nbconvert_exporter": "python",
   "pygments_lexer": "ipython3",
   "version": "3.10.16"
  }
 },
 "nbformat": 4,
 "nbformat_minor": 5
}
