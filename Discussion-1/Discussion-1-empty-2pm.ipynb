{
 "cells": [
  {
   "cell_type": "markdown",
   "id": "0c9d3974-ff43-4f44-99a4-b7b102e594fc",
   "metadata": {},
   "source": [
    "# Discussion 1: Linear Regression"
   ]
  },
  {
   "cell_type": "markdown",
   "id": "6b9c1c69-0c3c-4192-8cd3-913ba4842968",
   "metadata": {},
   "source": [
    "**TO FILL IN :**\n",
    "\n",
    "\n",
    "#### About the data: \n",
    "\n",
    "#### Purpose: \n"
   ]
  },
  {
   "cell_type": "markdown",
   "id": "0a2ae700-4333-43af-9fc3-52a2828782c0",
   "metadata": {},
   "source": [
    "## Data Loading"
   ]
  },
  {
   "cell_type": "code",
   "execution_count": 2,
   "id": "7c3fcf17-392f-4173-8754-59185add28b6",
   "metadata": {
    "tags": []
   },
   "outputs": [],
   "source": [
    "import pandas as pd\n",
    "import numpy as np\n",
    "from sklearn.linear_model import LinearRegression\n",
    "from sklearn.model_selection import train_test_split\n",
    "from sklearn.metrics import mean_squared_error, r2_score\n",
    "import matplotlib.pyplot as plt\n",
    "from ipywidgets import interact\n",
    "import ipywidgets as widgets\n",
    "from ipywidgets import interact, FloatSlider\n",
    "from IPython.display import display, clear_output\n",
    "\n",
    "# Load the data\n",
    "file_path = 'data/Hurricane_Irene_Hudson_River.xlsx'\n",
    "do_data = pd.read_excel('data/Hurricane_Irene_Hudson_River.xlsx', sheet_name = 5).drop(['Piermont D.O. (ppm)'], axis = 1)\n",
    "rainfall_data = pd.read_excel(file_path, sheet_name='Rainfall').drop(['Piermont  Rainfall Daily Accumulation (Inches)'], axis = 1)\n",
    "turbidity_data = pd.read_excel(file_path, sheet_name='Turbidity').drop(['Piermont Turbidity in NTU'], axis = 1)\n",
    "\n"
   ]
  },
  {
   "cell_type": "markdown",
   "id": "ba98b63d-f51a-4c94-a09e-39917a1353b6",
   "metadata": {},
   "source": [
    "## Data Cleaning"
   ]
  },
  {
   "cell_type": "markdown",
   "id": "c16a0c8d-1b73-4660-bc97-3a1a1d41bec3",
   "metadata": {},
   "source": [
    "Since we read in our data through multiple excel sheets, we need to merge our different dataframes. The different data sheets all have a column for date, so we can merge our data on this. To better call on the data in our analysis, we can change the column names. Finally, we will update the date to be of datetime type, and set the date as the index. "
   ]
  },
  {
   "cell_type": "code",
   "execution_count": 14,
   "id": "3ca444b3-0981-4e7a-a6af-fde5c8e336d6",
   "metadata": {
    "tags": []
   },
   "outputs": [
    {
     "data": {
      "text/html": [
       "<div>\n",
       "<style scoped>\n",
       "    .dataframe tbody tr th:only-of-type {\n",
       "        vertical-align: middle;\n",
       "    }\n",
       "\n",
       "    .dataframe tbody tr th {\n",
       "        vertical-align: top;\n",
       "    }\n",
       "\n",
       "    .dataframe thead th {\n",
       "        text-align: right;\n",
       "    }\n",
       "</style>\n",
       "<table border=\"1\" class=\"dataframe\">\n",
       "  <thead>\n",
       "    <tr style=\"text-align: right;\">\n",
       "      <th></th>\n",
       "      <th>albany_rainfall</th>\n",
       "      <th>norrie_rainfall</th>\n",
       "      <th>albany_turbidity</th>\n",
       "      <th>norrie_turbidity</th>\n",
       "      <th>albany_do</th>\n",
       "      <th>norrie_do</th>\n",
       "    </tr>\n",
       "    <tr>\n",
       "      <th>date</th>\n",
       "      <th></th>\n",
       "      <th></th>\n",
       "      <th></th>\n",
       "      <th></th>\n",
       "      <th></th>\n",
       "      <th></th>\n",
       "    </tr>\n",
       "  </thead>\n",
       "  <tbody>\n",
       "    <tr>\n",
       "      <th>2011-08-25 00:00:00</th>\n",
       "      <td>0.0</td>\n",
       "      <td>0.0</td>\n",
       "      <td>4.0</td>\n",
       "      <td>9.3</td>\n",
       "      <td>7.68</td>\n",
       "      <td>7.81</td>\n",
       "    </tr>\n",
       "    <tr>\n",
       "      <th>2011-08-25 00:15:00</th>\n",
       "      <td>0.0</td>\n",
       "      <td>0.0</td>\n",
       "      <td>3.9</td>\n",
       "      <td>8.4</td>\n",
       "      <td>7.60</td>\n",
       "      <td>7.73</td>\n",
       "    </tr>\n",
       "    <tr>\n",
       "      <th>2011-08-25 00:30:00</th>\n",
       "      <td>0.0</td>\n",
       "      <td>0.0</td>\n",
       "      <td>4.3</td>\n",
       "      <td>7.9</td>\n",
       "      <td>7.57</td>\n",
       "      <td>7.63</td>\n",
       "    </tr>\n",
       "    <tr>\n",
       "      <th>2011-08-25 00:45:00</th>\n",
       "      <td>0.0</td>\n",
       "      <td>0.0</td>\n",
       "      <td>4.7</td>\n",
       "      <td>8.1</td>\n",
       "      <td>7.72</td>\n",
       "      <td>7.67</td>\n",
       "    </tr>\n",
       "    <tr>\n",
       "      <th>2011-08-25 01:00:00</th>\n",
       "      <td>0.0</td>\n",
       "      <td>0.0</td>\n",
       "      <td>4.4</td>\n",
       "      <td>8.4</td>\n",
       "      <td>7.74</td>\n",
       "      <td>7.63</td>\n",
       "    </tr>\n",
       "  </tbody>\n",
       "</table>\n",
       "</div>"
      ],
      "text/plain": [
       "                     albany_rainfall  norrie_rainfall  albany_turbidity  \\\n",
       "date                                                                      \n",
       "2011-08-25 00:00:00              0.0              0.0               4.0   \n",
       "2011-08-25 00:15:00              0.0              0.0               3.9   \n",
       "2011-08-25 00:30:00              0.0              0.0               4.3   \n",
       "2011-08-25 00:45:00              0.0              0.0               4.7   \n",
       "2011-08-25 01:00:00              0.0              0.0               4.4   \n",
       "\n",
       "                     norrie_turbidity  albany_do  norrie_do  \n",
       "date                                                         \n",
       "2011-08-25 00:00:00               9.3       7.68       7.81  \n",
       "2011-08-25 00:15:00               8.4       7.60       7.73  \n",
       "2011-08-25 00:30:00               7.9       7.57       7.63  \n",
       "2011-08-25 00:45:00               8.1       7.72       7.67  \n",
       "2011-08-25 01:00:00               8.4       7.74       7.63  "
      ]
     },
     "execution_count": 14,
     "metadata": {},
     "output_type": "execute_result"
    }
   ],
   "source": [
    "# Merge the two datasets\n",
    "\n",
    "data = rainfall_data.merge(turbidity_data, on = 'Date Time (ET)')\n",
    "data = data.merge(do_data, on = 'Date Time (ET)')\n",
    "data.head()\n",
    "\n",
    "# Update the column names \n",
    "data.columns = ['date', 'albany_rainfall', 'norrie_rainfall', 'albany_turbidity', 'norrie_turbidity', 'albany_do', 'norrie_do']\n",
    "\n",
    "# Make date a datetime object and make it the index\n",
    "\n",
    "# Convert data to datetime format and set it as index\n",
    "data['date'] = pd.to_datetime(data['date'])\n",
    "\n",
    "# Set the date as the index\n",
    "data.set_index('date', inplace = True)\n",
    "\n",
    "data.head()\n",
    "\n"
   ]
  },
  {
   "cell_type": "markdown",
   "id": "b3bed68c-97a6-45b2-a72b-fd514e2a9fe5",
   "metadata": {},
   "source": [
    "## Muliple Linear Regression"
   ]
  },
  {
   "cell_type": "markdown",
   "id": "8a903793-3e3d-4dca-98d2-e1a1b03af0e1",
   "metadata": {},
   "source": [
    "Now that our data is cleaned, we can start our multiple linear regression. We will be predicting the turbidity at the Albany sample site, with the rainfall and dissolved oxygen at the Albany sample site as our predictors. Let's check if our model improves at all by adding a second predictor. "
   ]
  },
  {
   "cell_type": "code",
   "execution_count": 15,
   "id": "eebc4827-a99c-452d-b122-90aa501b2632",
   "metadata": {
    "tags": []
   },
   "outputs": [
    {
     "name": "stdout",
     "output_type": "stream",
     "text": [
      "49245.97762215777\n"
     ]
    }
   ],
   "source": [
    "# Define predictors and the target variable\n",
    "X = data[['albany_rainfall', 'albany_do']]\n",
    "y = data[['albany_turbidity']]\n",
    "\n",
    "# Split the data into training and testing sets\n",
    "X_train, X_test, y_train, y_test = train_test_split(X, y, test_size = 0.3, random_state = 42)\n",
    "\n",
    "# Create and fit the model\n",
    "model = LinearRegression().fit(X_train, y_train)\n",
    "model\n",
    "\n",
    "# Predict and evaluate\n",
    "y_pred = model.predict(X_test)\n",
    "print(mean_squared_error(y_test, y_pred))\n",
    "#print(f\"R-squared: {r2_score(y_test, y_pred)}\")\n"
   ]
  },
  {
   "cell_type": "markdown",
   "id": "d0f77352-aa06-42ea-8fbf-438a8ed37560",
   "metadata": {},
   "source": [
    "## Create a widget to visualize different models"
   ]
  },
  {
   "cell_type": "markdown",
   "id": "282c134d-b1aa-49b1-ae7d-d40528cae7e6",
   "metadata": {},
   "source": [
    "To play around with our model a bit more and visualize different scenarios, we will create a widget using the `ipywidgets` library. "
   ]
  },
  {
   "cell_type": "code",
   "execution_count": 18,
   "id": "9a240835-f415-4898-86a3-452d6ee90542",
   "metadata": {
    "scrolled": true,
    "tags": []
   },
   "outputs": [
    {
     "data": {
      "application/vnd.jupyter.widget-view+json": {
       "model_id": "9fea46cea8a14cb69f94aa12c9daa6a7",
       "version_major": 2,
       "version_minor": 0
      },
      "text/plain": [
       "SelectMultiple(description='Predictors', index=(0,), options=('albany_rainfall', 'norrie_rainfall', 'albany_tu…"
      ]
     },
     "metadata": {},
     "output_type": "display_data"
    },
    {
     "data": {
      "application/vnd.jupyter.widget-view+json": {
       "model_id": "c8b049988f6a4baaaec952232a6fc683",
       "version_major": 2,
       "version_minor": 0
      },
      "text/plain": [
       "Dropdown(description='Target', index=1, options=('albany_rainfall', 'norrie_rainfall', 'albany_turbidity', 'no…"
      ]
     },
     "metadata": {},
     "output_type": "display_data"
    },
    {
     "data": {
      "application/vnd.jupyter.widget-view+json": {
       "model_id": "67d3480997a840cfaa52ba0c7eecfd03",
       "version_major": 2,
       "version_minor": 0
      },
      "text/plain": [
       "Button(description='Evaluate Model', style=ButtonStyle())"
      ]
     },
     "metadata": {},
     "output_type": "display_data"
    },
    {
     "data": {
      "application/vnd.jupyter.widget-view+json": {
       "model_id": "a7b4d3978a3f4b4a98087c2461985adc",
       "version_major": 2,
       "version_minor": 0
      },
      "text/plain": [
       "Output()"
      ]
     },
     "metadata": {},
     "output_type": "display_data"
    }
   ],
   "source": [
    "# Create a widget for selecting predictors\n",
    "predictor_selector = widgets.SelectMultiple(\n",
    "    options = data.columns, \n",
    "    value = [data.columns[0]],\n",
    "    description = 'Predictors'\n",
    "\n",
    ")\n",
    "\n",
    "# Create a dropdown for selecting the target variable\n",
    "target_selector = widgets.Dropdown(\n",
    "    options = data.columns,\n",
    "    value = data.columns[1],\n",
    "    description = 'Target'\n",
    ")\n",
    "\n",
    "# Button to evaluate the model\n",
    "evaluate_button = widgets.Button(description = 'Evaluate Model')\n",
    "\n",
    "\n",
    "# Output widget to display results\n",
    "output = widgets.Output()\n",
    "\n",
    "# Define the function to handle button clicks\n",
    "def evaluate_model(b):\n",
    "    with output:\n",
    "        clear_output(wait=True) # Clear output of display area\n",
    "        \n",
    "        # Make sure the target is not in the predictors\n",
    "        selected_predictors = [item for item in predictor_selector.value]\n",
    "        if target_selector.value in selected_predictors : \n",
    "            print(\"Target variable must not be in the predictors.\")\n",
    "            return\n",
    "        \n",
    "        # Prepare the data\n",
    "        X = data[selected_predictors]\n",
    "        y = data[target_selector.value]\n",
    "        \n",
    "        # Split data into training and testing sets\n",
    "        X_train, X_test, y_train, y_test = train_test_split(X, y, test_size = 0.3, random_state = 42)\n",
    "        \n",
    "        # Create and fit the model\n",
    "        model = LinearRegression()\n",
    "        model.fit(X_train, y_train)\n",
    "\n",
    "        \n",
    "        # Predict and calculate R^2 and MSE\n",
    "        y_pred = model.predict(X_test)\n",
    "        r2 = r2_score(y_test, y_pred)\n",
    "        root_mse = np.sqrt(mean_squared_error(y_test, y_pred))\n",
    "        \n",
    "        # Display the R^2 score and MSE\n",
    "        print(f\"R^2: {r2:.4f}\")\n",
    "        print(f\"MSE: {root_mse:.4f}\")\n",
    "\n",
    "\n",
    "\n",
    "\n",
    "# Display the widgets and connect the button to the function\n",
    "display(predictor_selector, target_selector, evaluate_button, output)\n",
    "evaluate_button.on_click(evaluate_model)\n"
   ]
  },
  {
   "cell_type": "code",
   "execution_count": null,
   "id": "24fea4b1-e417-4f76-b7e1-fc8090b3e678",
   "metadata": {},
   "outputs": [],
   "source": []
  },
  {
   "cell_type": "code",
   "execution_count": null,
   "id": "a8f5237d-7967-45e8-b695-5a840681df6b",
   "metadata": {},
   "outputs": [],
   "source": []
  }
 ],
 "metadata": {
  "kernelspec": {
   "display_name": "Anaconda 3 (EDS232)",
   "language": "python",
   "name": "ml-env"
  },
  "language_info": {
   "codemirror_mode": {
    "name": "ipython",
    "version": 3
   },
   "file_extension": ".py",
   "mimetype": "text/x-python",
   "name": "python",
   "nbconvert_exporter": "python",
   "pygments_lexer": "ipython3",
   "version": "3.10.16"
  }
 },
 "nbformat": 4,
 "nbformat_minor": 5
}
