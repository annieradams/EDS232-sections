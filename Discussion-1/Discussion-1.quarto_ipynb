{
  "cells": [
    {
      "cell_type": "markdown",
      "metadata": {},
      "source": [
        "---\n",
        "title: Discussion 1\n",
        "subtitle: Creating Widgets for Multiple Linear Regression\n",
        "description: 'Thursday, January 9th, 2025'\n",
        "jupyter:\n",
        "  jupytext:\n",
        "    text_representation:\n",
        "      extension: .qmd\n",
        "      format_name: quarto\n",
        "      format_version: '1.0'\n",
        "      jupytext_version: 1.16.4\n",
        "  kernelspec:\n",
        "    display_name: Python (eds220-env)\n",
        "    language: python\n",
        "    name: eds220-env\n",
        "---\n",
        "\n",
        "\n",
        "\n",
        "\n",
        "# Introduction\n",
        "\n",
        "In this week's discussion section, we will be using the same dataset from our weekly lab - Water characteristics in the Hudson River after Hurricane Irene. However, rather than looking at a single predictor variable, we are going to add more! Can we improve our model if we add more variables?? Let's find out. \n",
        "\n",
        "# Data Loading\n",
        "\n",
        "Access the same .xlsx file we used in lab this week. If you lost access to it, you can find the data [here](https://docs.google.com/spreadsheets/d/1MsSf679OsQpt4y6btV3tLPf-i8_bdoTZ/edit?gid=511934884#gid=511934884). Instead of looking at only the dissolved oxygen and turbidity data this time, we are also going to read in data on rainfall. Read in each of these sheets on the excel sheet as its own dataframe. \n",
        "\n",
        "# Data Wrangling\n",
        "Perform the following data wrangling steps to get our data ready for our model. \n",
        "\n",
        "\n",
        "1. Merge the three dataframes together. While merging, or after, drop all columns for the Piedmont location. \n",
        "2. Update the column names to be shorter and not have spaces. Use snake case.\n",
        "3. Make your date column a datetime obect.\n",
        "4. Set the data as the index for the merged dataframe. \n",
        "\n",
        "\n",
        "# Multiple Linear Regression\n",
        "Now that our data is cleaned, let's do the following to carry out a multiple linear regression. \n",
        "\n",
        "1. Define your predictors and target variables.\n",
        "2. Split the data into training and testing sets\n",
        "3. Create and fit the model\n",
        "4. Predict and Evaluate your model\n",
        "\n",
        "\n",
        "# Create a Widget for updating the predictor and target variables. \n",
        "\n",
        "1. Create the four different pieces to the widget: the predictor selector, the target selector, the evaluate button, and the output\n",
        "2. Wrap our worfklow into a function called `evaluate_model()`. This function will run a linear regression model based on what the user selects as predictors and the outcome variable. It will print the $R^2$, MSE, and a scatterplot of the actual versus predicted target variable.\n",
        "3. Create a warning for your widget to ensure that the user does not select the same variable as both a predictor variable and a target variable.\n",
        "4. Play around with your widget and see how your $R^2$ changes based on your selected variables! \n"
      ],
      "id": "d44a7c06"
    }
  ],
  "metadata": {
    "kernelspec": {
      "display_name": "Python (eds220-env)",
      "language": "python",
      "name": "eds220-env"
    },
    "jupytext": {
      "text_representation": {
        "extension": ".qmd",
        "format_name": "quarto",
        "format_version": "1.0",
        "jupytext_version": "1.16.4"
      }
    }
  },
  "nbformat": 4,
  "nbformat_minor": 5
}