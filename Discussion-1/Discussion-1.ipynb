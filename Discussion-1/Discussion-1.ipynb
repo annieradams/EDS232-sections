{
 "cells": [
  {
   "cell_type": "code",
   "execution_count": 1,
   "id": "7c3fcf17-392f-4173-8754-59185add28b6",
   "metadata": {
    "tags": []
   },
   "outputs": [],
   "source": [
    "import pandas as pd\n",
    "import numpy as np\n",
    "from sklearn.linear_model import LinearRegression\n",
    "from sklearn.model_selection import train_test_split\n",
    "from sklearn.metrics import mean_squared_error, r2_score\n",
    "import matplotlib.pyplot as plt\n",
    "from ipywidgets import interact\n",
    "import ipywidgets as widgets\n",
    "from ipywidgets import interact, FloatSlider\n",
    "from IPython.display import display, clear_output\n",
    "\n",
    "# Load the data\n",
    "file_path = 'data/Hurricane_Irene_Hudson_River.xlsx'\n",
    "do_data = pd.read_excel('data/Hurricane_Irene_Hudson_River.xlsx', sheet_name = 5).drop(['Piermont D.O. (ppm)'], axis = 1)\n",
    "rainfall_data = pd.read_excel(file_path, sheet_name='Rainfall').drop(['Piermont  Rainfall Daily Accumulation (Inches)'], axis = 1)\n",
    "turbidity_data = pd.read_excel(file_path, sheet_name='Turbidity').drop(['Piermont Turbidity in NTU'], axis = 1)\n",
    "\n",
    "\n",
    "# Merge the two datasets\n",
    "data = rainfall_data.merge(turbidity_data, on = 'Date Time (ET)')\n",
    "data = data.merge(do_data, on = 'Date Time (ET)')\n",
    "data.head()\n",
    "\n",
    "# Update the column names \n",
    "data.columns = ['date', 'albany_rainfall', 'norrie_rainfall', 'albany_turbidity', 'norrie_turbidity','albany_do', 'norrie_do']\n",
    "\n",
    "# Convert data to datetime format and set it as index\n",
    "data['date'] = pd.to_datetime(data['date'])\n",
    "\n",
    "data.set_index('date', inplace=True)\n",
    "\n"
   ]
  },
  {
   "cell_type": "code",
   "execution_count": 2,
   "id": "eebc4827-a99c-452d-b122-90aa501b2632",
   "metadata": {
    "tags": []
   },
   "outputs": [
    {
     "name": "stdout",
     "output_type": "stream",
     "text": [
      "RMSE: 180.96630576072272\n",
      "R-squared: 0.6327795601693718\n"
     ]
    }
   ],
   "source": [
    "# Define predictors and the target variable\n",
    "X = data[['albany_rainfall', 'norrie_rainfall', 'albany_do', 'norrie_do']]  # Adjust as needed\n",
    "y = data['albany_turbidity']\n",
    "\n",
    "# Split the data into training and testing sets\n",
    "X_train, X_test, y_train, y_test = train_test_split(X, y, test_size=0.2, random_state=42)\n",
    "\n",
    "# Create and fit the model\n",
    "model = LinearRegression()\n",
    "model.fit(X_train, y_train)\n",
    "\n",
    "# Predict and evaluate\n",
    "y_pred = model.predict(X_test)\n",
    "print(f\"RMSE: {np.sqrt(mean_squared_error(y_test, y_pred))}\")\n",
    "print(f\"R-squared: {r2_score(y_test, y_pred)}\")\n"
   ]
  },
  {
   "cell_type": "code",
   "execution_count": 3,
   "id": "9a240835-f415-4898-86a3-452d6ee90542",
   "metadata": {
    "scrolled": true,
    "tags": []
   },
   "outputs": [
    {
     "data": {
      "application/vnd.jupyter.widget-view+json": {
       "model_id": "e16c8fe8952641f3897a6baef4c85842",
       "version_major": 2,
       "version_minor": 0
      },
      "text/plain": [
       "SelectMultiple(description='Predictors', index=(0,), options=('albany_rainfall', 'norrie_rainfall', 'albany_tu…"
      ]
     },
     "metadata": {},
     "output_type": "display_data"
    },
    {
     "data": {
      "application/vnd.jupyter.widget-view+json": {
       "model_id": "1b92f87268834c05889591460370ded9",
       "version_major": 2,
       "version_minor": 0
      },
      "text/plain": [
       "Dropdown(description='Target', index=1, options=('albany_rainfall', 'norrie_rainfall', 'albany_turbidity', 'no…"
      ]
     },
     "metadata": {},
     "output_type": "display_data"
    },
    {
     "data": {
      "application/vnd.jupyter.widget-view+json": {
       "model_id": "80b86dd66c3b49bab7ccc6cdcd10f41b",
       "version_major": 2,
       "version_minor": 0
      },
      "text/plain": [
       "Button(description='Evaluate Model', style=ButtonStyle())"
      ]
     },
     "metadata": {},
     "output_type": "display_data"
    },
    {
     "data": {
      "application/vnd.jupyter.widget-view+json": {
       "model_id": "11541e5bc68f413d9dd60feef24adb58",
       "version_major": 2,
       "version_minor": 0
      },
      "text/plain": [
       "Output()"
      ]
     },
     "metadata": {},
     "output_type": "display_data"
    }
   ],
   "source": [
    "# Create a widget for selecting predictors\n",
    "predictor_selector = widgets.SelectMultiple(\n",
    "    options=data.columns,\n",
    "    value=[data.columns[0]],  \n",
    "    description='Predictors'\n",
    ")\n",
    "\n",
    "# Create a dropdown for selecting the target variable\n",
    "target_selector = widgets.Dropdown(\n",
    "    options=data.columns,\n",
    "    value=data.columns[1],  \n",
    "    description='Target',\n",
    ")\n",
    "\n",
    "# Button to evaluate the model\n",
    "evaluate_button = widgets.Button(description=\"Evaluate Model\")\n",
    "\n",
    "# Output widget to display results\n",
    "output = widgets.Output()\n",
    "\n",
    "# Define the function to handle button clicks\n",
    "def evaluate_model(b):\n",
    "    with output:\n",
    "        clear_output(wait=True)\n",
    "        \n",
    "        # Make sure the target is not in the predictors\n",
    "        selected_predictors = [item for item in predictor_selector.value]\n",
    "        if target_selector.value in selected_predictors:\n",
    "            print(\"Target variable must not be in the predictors.\")\n",
    "            return\n",
    "        \n",
    "        # Prepare the data\n",
    "        X = data[selected_predictors]\n",
    "        y = data[target_selector.value]\n",
    "        \n",
    "        # Split data into training and testing sets\n",
    "        X_train, X_test, y_train, y_test = train_test_split(X, y, test_size=0.2, random_state=42)\n",
    "        \n",
    "        # Create and fit the model\n",
    "        model = LinearRegression()\n",
    "        model.fit(X_train, y_train)\n",
    "        \n",
    "        # Predict and calculate R^2 and MSE\n",
    "        y_pred = model.predict(X_test)\n",
    "        r2 = r2_score(y_test, y_pred)\n",
    "        mse = mean_squared_error(y_test, y_pred)\n",
    "        \n",
    "        # Display the R^2 score and MSE\n",
    "        print(f\"R^2: {r2:.4f}\")\n",
    "        print(f\"MSE: {mse:.4f}\")\n",
    "\n",
    "\n",
    "        plt.scatter(y_test, y_pred) # SOLUTION NO PROMPT\n",
    "        plt.xlabel('Actual') # SOLUTION NO PROMPT\n",
    "        plt.ylabel('Predicted') # SOLUTION NO PROMPT\n",
    "        plt.title('Actual vs Predicted') # SOLUTION NO PROMPT\n",
    "        plt.show() # SOLUTION NO PROMPT\n",
    "\n",
    "\n",
    "# Display the widgets and connect the button to the function\n",
    "display(predictor_selector, target_selector, evaluate_button, output)\n",
    "evaluate_button.on_click(evaluate_model)\n",
    "\n"
   ]
  },
  {
   "cell_type": "code",
   "execution_count": null,
   "id": "24fea4b1-e417-4f76-b7e1-fc8090b3e678",
   "metadata": {},
   "outputs": [],
   "source": []
  },
  {
   "cell_type": "code",
   "execution_count": null,
   "id": "aac95133-37df-47e2-afad-3b9504669994",
   "metadata": {},
   "outputs": [],
   "source": []
  }
 ],
 "metadata": {
  "kernelspec": {
   "display_name": "Anaconda 3 (EDS232)",
   "language": "python",
   "name": "ml-env"
  },
  "language_info": {
   "codemirror_mode": {
    "name": "ipython",
    "version": 3
   },
   "file_extension": ".py",
   "mimetype": "text/x-python",
   "name": "python",
   "nbconvert_exporter": "python",
   "pygments_lexer": "ipython3",
   "version": "3.10.16"
  }
 },
 "nbformat": 4,
 "nbformat_minor": 5
}
