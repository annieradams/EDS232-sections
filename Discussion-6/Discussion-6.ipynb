{
 "cells": [
  {
   "cell_type": "markdown",
   "id": "12357625-a3b9-41ac-9cb5-673869f1ca8e",
   "metadata": {},
   "source": [
    "## Week 6: Random Forests with Imputed Data"
   ]
  },
  {
   "cell_type": "markdown",
   "id": "84f1083e-0eaf-4fe7-8d69-6dd143c71ef4",
   "metadata": {},
   "source": [
    "### Introduction\n",
    "\n",
    "In this week's discussion section, we will use data with few NAs and intentionally add more NAs to it. We are going to run different imputation strategies on our newly \"NA-ed\" dataset, and see which performs best. Normally, you would never know how your imputation is actually performing, but this excercise will allow us to look under the hood  a bit at how different imputation strategies perform differently. Once we find which imputation strategy works best, we will run a random forest on both the original data, as well as our newly imputed data. Which do you think will perform better?? \n",
    "\n",
    "## Data \n",
    "\n",
    "This week, we will be working with mushroom data! This dataset from the [UCI Machine Learning Repository](https://archive.ics.uci.edu/dataset/73/mushroom) includes descriptions of hypothetical samples corresponding to 23 species of gilled mushrooms in the Agaricus and Lepiota Family. Our target variable will be, `poisonous`, a categorical outcome variable classifying the mushroom as poisonous or not. We will include 22 features in our dataset that all relate to mushroom characteristics- such as `cap-cut`, `cap-surface`, `bruises`, and `odor`. "
   ]
  },
  {
   "cell_type": "markdown",
   "id": "f6bd68c8-1ed6-4336-b0e3-6a3b268ea179",
   "metadata": {},
   "source": [
    "#### Import Libraries"
   ]
  },
  {
   "cell_type": "code",
   "execution_count": 1,
   "id": "4855c74d-de54-47e3-a466-43377da3d4a1",
   "metadata": {
    "tags": []
   },
   "outputs": [],
   "source": [
    "import numpy as np\n",
    "import pandas as pd\n",
    "from sklearn.model_selection import train_test_split\n",
    "from sklearn.ensemble import RandomForestClassifier, BaggingClassifier\n",
    "from sklearn.tree import DecisionTreeClassifier\n",
    "from sklearn.preprocessing import StandardScaler\n",
    "from sklearn.preprocessing import LabelEncoder\n",
    "from sklearn.impute import SimpleImputer, KNNImputer\n",
    "from sklearn.metrics import mean_squared_error, accuracy_score\n",
    "from ucimlrepo import fetch_ucirepo "
   ]
  },
  {
   "cell_type": "markdown",
   "id": "67af46d3-8f10-476f-b761-7f9bbb4ba08c",
   "metadata": {
    "tags": []
   },
   "source": [
    "### Load Data"
   ]
  },
  {
   "cell_type": "code",
   "execution_count": 2,
   "id": "7471ea5f-a8f0-41b6-80f5-a6321e54cbd7",
   "metadata": {
    "tags": []
   },
   "outputs": [
    {
     "data": {
      "text/html": [
       "<div>\n",
       "<style scoped>\n",
       "    .dataframe tbody tr th:only-of-type {\n",
       "        vertical-align: middle;\n",
       "    }\n",
       "\n",
       "    .dataframe tbody tr th {\n",
       "        vertical-align: top;\n",
       "    }\n",
       "\n",
       "    .dataframe thead th {\n",
       "        text-align: right;\n",
       "    }\n",
       "</style>\n",
       "<table border=\"1\" class=\"dataframe\">\n",
       "  <thead>\n",
       "    <tr style=\"text-align: right;\">\n",
       "      <th></th>\n",
       "      <th>cap-shape</th>\n",
       "      <th>cap-surface</th>\n",
       "      <th>cap-color</th>\n",
       "      <th>bruises</th>\n",
       "      <th>odor</th>\n",
       "      <th>gill-attachment</th>\n",
       "      <th>gill-spacing</th>\n",
       "      <th>gill-size</th>\n",
       "      <th>gill-color</th>\n",
       "      <th>stalk-shape</th>\n",
       "      <th>stalk-root</th>\n",
       "      <th>stalk-surface-above-ring</th>\n",
       "      <th>stalk-surface-below-ring</th>\n",
       "      <th>stalk-color-above-ring</th>\n",
       "      <th>stalk-color-below-ring</th>\n",
       "      <th>veil-type</th>\n",
       "      <th>veil-color</th>\n",
       "      <th>ring-number</th>\n",
       "      <th>ring-type</th>\n",
       "      <th>spore-print-color</th>\n",
       "      <th>population</th>\n",
       "      <th>habitat</th>\n",
       "    </tr>\n",
       "  </thead>\n",
       "  <tbody>\n",
       "    <tr>\n",
       "      <th>0</th>\n",
       "      <td>x</td>\n",
       "      <td>s</td>\n",
       "      <td>n</td>\n",
       "      <td>t</td>\n",
       "      <td>p</td>\n",
       "      <td>f</td>\n",
       "      <td>c</td>\n",
       "      <td>n</td>\n",
       "      <td>k</td>\n",
       "      <td>e</td>\n",
       "      <td>e</td>\n",
       "      <td>s</td>\n",
       "      <td>s</td>\n",
       "      <td>w</td>\n",
       "      <td>w</td>\n",
       "      <td>p</td>\n",
       "      <td>w</td>\n",
       "      <td>o</td>\n",
       "      <td>p</td>\n",
       "      <td>k</td>\n",
       "      <td>s</td>\n",
       "      <td>u</td>\n",
       "    </tr>\n",
       "    <tr>\n",
       "      <th>1</th>\n",
       "      <td>x</td>\n",
       "      <td>s</td>\n",
       "      <td>y</td>\n",
       "      <td>t</td>\n",
       "      <td>a</td>\n",
       "      <td>f</td>\n",
       "      <td>c</td>\n",
       "      <td>b</td>\n",
       "      <td>k</td>\n",
       "      <td>e</td>\n",
       "      <td>c</td>\n",
       "      <td>s</td>\n",
       "      <td>s</td>\n",
       "      <td>w</td>\n",
       "      <td>w</td>\n",
       "      <td>p</td>\n",
       "      <td>w</td>\n",
       "      <td>o</td>\n",
       "      <td>p</td>\n",
       "      <td>n</td>\n",
       "      <td>n</td>\n",
       "      <td>g</td>\n",
       "    </tr>\n",
       "    <tr>\n",
       "      <th>2</th>\n",
       "      <td>b</td>\n",
       "      <td>s</td>\n",
       "      <td>w</td>\n",
       "      <td>t</td>\n",
       "      <td>l</td>\n",
       "      <td>f</td>\n",
       "      <td>c</td>\n",
       "      <td>b</td>\n",
       "      <td>n</td>\n",
       "      <td>e</td>\n",
       "      <td>c</td>\n",
       "      <td>s</td>\n",
       "      <td>s</td>\n",
       "      <td>w</td>\n",
       "      <td>w</td>\n",
       "      <td>p</td>\n",
       "      <td>w</td>\n",
       "      <td>o</td>\n",
       "      <td>p</td>\n",
       "      <td>n</td>\n",
       "      <td>n</td>\n",
       "      <td>m</td>\n",
       "    </tr>\n",
       "    <tr>\n",
       "      <th>3</th>\n",
       "      <td>x</td>\n",
       "      <td>y</td>\n",
       "      <td>w</td>\n",
       "      <td>t</td>\n",
       "      <td>p</td>\n",
       "      <td>f</td>\n",
       "      <td>c</td>\n",
       "      <td>n</td>\n",
       "      <td>n</td>\n",
       "      <td>e</td>\n",
       "      <td>e</td>\n",
       "      <td>s</td>\n",
       "      <td>s</td>\n",
       "      <td>w</td>\n",
       "      <td>w</td>\n",
       "      <td>p</td>\n",
       "      <td>w</td>\n",
       "      <td>o</td>\n",
       "      <td>p</td>\n",
       "      <td>k</td>\n",
       "      <td>s</td>\n",
       "      <td>u</td>\n",
       "    </tr>\n",
       "    <tr>\n",
       "      <th>4</th>\n",
       "      <td>x</td>\n",
       "      <td>s</td>\n",
       "      <td>g</td>\n",
       "      <td>f</td>\n",
       "      <td>n</td>\n",
       "      <td>f</td>\n",
       "      <td>w</td>\n",
       "      <td>b</td>\n",
       "      <td>k</td>\n",
       "      <td>t</td>\n",
       "      <td>e</td>\n",
       "      <td>s</td>\n",
       "      <td>s</td>\n",
       "      <td>w</td>\n",
       "      <td>w</td>\n",
       "      <td>p</td>\n",
       "      <td>w</td>\n",
       "      <td>o</td>\n",
       "      <td>e</td>\n",
       "      <td>n</td>\n",
       "      <td>a</td>\n",
       "      <td>g</td>\n",
       "    </tr>\n",
       "  </tbody>\n",
       "</table>\n",
       "</div>"
      ],
      "text/plain": [
       "  cap-shape cap-surface cap-color bruises odor gill-attachment gill-spacing  \\\n",
       "0         x           s         n       t    p               f            c   \n",
       "1         x           s         y       t    a               f            c   \n",
       "2         b           s         w       t    l               f            c   \n",
       "3         x           y         w       t    p               f            c   \n",
       "4         x           s         g       f    n               f            w   \n",
       "\n",
       "  gill-size gill-color stalk-shape stalk-root stalk-surface-above-ring  \\\n",
       "0         n          k           e          e                        s   \n",
       "1         b          k           e          c                        s   \n",
       "2         b          n           e          c                        s   \n",
       "3         n          n           e          e                        s   \n",
       "4         b          k           t          e                        s   \n",
       "\n",
       "  stalk-surface-below-ring stalk-color-above-ring stalk-color-below-ring  \\\n",
       "0                        s                      w                      w   \n",
       "1                        s                      w                      w   \n",
       "2                        s                      w                      w   \n",
       "3                        s                      w                      w   \n",
       "4                        s                      w                      w   \n",
       "\n",
       "  veil-type veil-color ring-number ring-type spore-print-color population  \\\n",
       "0         p          w           o         p                 k          s   \n",
       "1         p          w           o         p                 n          n   \n",
       "2         p          w           o         p                 n          n   \n",
       "3         p          w           o         p                 k          s   \n",
       "4         p          w           o         e                 n          a   \n",
       "\n",
       "  habitat  \n",
       "0       u  \n",
       "1       g  \n",
       "2       m  \n",
       "3       u  \n",
       "4       g  "
      ]
     },
     "execution_count": 2,
     "metadata": {},
     "output_type": "execute_result"
    }
   ],
   "source": [
    "# Fetch dataset \n",
    "mushroom = fetch_ucirepo(id=73) \n",
    "  \n",
    "# Save data as X and y variables\n",
    "X = mushroom.data.features \n",
    "y = np.ravel(mushroom.data.targets)\n",
    "\n",
    "# Expand dataframe columns and look at view dataframe\n",
    "pd.set_option('display.max_columns', None)\n",
    "X.head()"
   ]
  },
  {
   "cell_type": "markdown",
   "id": "55d4835e-4a7d-468d-b3c5-210b18caa7f8",
   "metadata": {},
   "source": [
    "### Encoding Data"
   ]
  },
  {
   "cell_type": "code",
   "execution_count": 24,
   "id": "1239a743-e5d0-4a7a-9fa6-6f6904b1de28",
   "metadata": {
    "tags": []
   },
   "outputs": [
    {
     "data": {
      "text/html": [
       "<div>\n",
       "<style scoped>\n",
       "    .dataframe tbody tr th:only-of-type {\n",
       "        vertical-align: middle;\n",
       "    }\n",
       "\n",
       "    .dataframe tbody tr th {\n",
       "        vertical-align: top;\n",
       "    }\n",
       "\n",
       "    .dataframe thead th {\n",
       "        text-align: right;\n",
       "    }\n",
       "</style>\n",
       "<table border=\"1\" class=\"dataframe\">\n",
       "  <thead>\n",
       "    <tr style=\"text-align: right;\">\n",
       "      <th></th>\n",
       "      <th>cap-shape</th>\n",
       "      <th>cap-surface</th>\n",
       "      <th>cap-color</th>\n",
       "      <th>bruises</th>\n",
       "      <th>odor</th>\n",
       "    </tr>\n",
       "  </thead>\n",
       "  <tbody>\n",
       "    <tr>\n",
       "      <th>0</th>\n",
       "      <td>0</td>\n",
       "      <td>0</td>\n",
       "      <td>0</td>\n",
       "      <td>0</td>\n",
       "      <td>0</td>\n",
       "    </tr>\n",
       "    <tr>\n",
       "      <th>1</th>\n",
       "      <td>0</td>\n",
       "      <td>0</td>\n",
       "      <td>1</td>\n",
       "      <td>0</td>\n",
       "      <td>1</td>\n",
       "    </tr>\n",
       "    <tr>\n",
       "      <th>2</th>\n",
       "      <td>1</td>\n",
       "      <td>0</td>\n",
       "      <td>2</td>\n",
       "      <td>0</td>\n",
       "      <td>2</td>\n",
       "    </tr>\n",
       "    <tr>\n",
       "      <th>3</th>\n",
       "      <td>0</td>\n",
       "      <td>1</td>\n",
       "      <td>2</td>\n",
       "      <td>0</td>\n",
       "      <td>0</td>\n",
       "    </tr>\n",
       "    <tr>\n",
       "      <th>4</th>\n",
       "      <td>0</td>\n",
       "      <td>0</td>\n",
       "      <td>3</td>\n",
       "      <td>1</td>\n",
       "      <td>3</td>\n",
       "    </tr>\n",
       "  </tbody>\n",
       "</table>\n",
       "</div>"
      ],
      "text/plain": [
       "  cap-shape cap-surface cap-color bruises odor\n",
       "0         0           0         0       0    0\n",
       "1         0           0         1       0    1\n",
       "2         1           0         2       0    2\n",
       "3         0           1         2       0    0\n",
       "4         0           0         3       1    3"
      ]
     },
     "execution_count": 24,
     "metadata": {},
     "output_type": "execute_result"
    }
   ],
   "source": [
    "# Factorize all columns\n",
    "for col in X.columns:\n",
    "    X.loc[:, col] = pd.factorize(X[col], sort = True)[0]\n",
    "\n",
    "# View first few rows of encoded data\n",
    "X.iloc[0:5, 0:5]"
   ]
  },
  {
   "cell_type": "markdown",
   "id": "b8407dc6-fb6c-40dd-a7f9-b5523faf614f",
   "metadata": {},
   "source": [
    "### Time to impute! "
   ]
  },
  {
   "cell_type": "markdown",
   "id": "76fd0c3b-88a8-468f-98a1-daba18d42697",
   "metadata": {},
   "source": [
    "Does our dataset have any missing values? Lets check! "
   ]
  },
  {
   "cell_type": "code",
   "execution_count": 33,
   "id": "7437e6eb-a18f-4b5e-a801-18b0b7d8197e",
   "metadata": {
    "tags": []
   },
   "outputs": [
    {
     "data": {
      "text/plain": [
       "cap-shape                   0\n",
       "cap-surface                 0\n",
       "cap-color                   0\n",
       "bruises                     0\n",
       "odor                        0\n",
       "gill-attachment             0\n",
       "gill-spacing                0\n",
       "gill-size                   0\n",
       "gill-color                  0\n",
       "stalk-shape                 0\n",
       "stalk-root                  0\n",
       "stalk-surface-above-ring    0\n",
       "stalk-surface-below-ring    0\n",
       "stalk-color-above-ring      0\n",
       "stalk-color-below-ring      0\n",
       "veil-type                   0\n",
       "veil-color                  0\n",
       "ring-number                 0\n",
       "ring-type                   0\n",
       "spore-print-color           0\n",
       "population                  0\n",
       "habitat                     0\n",
       "dtype: int64"
      ]
     },
     "execution_count": 33,
     "metadata": {},
     "output_type": "execute_result"
    }
   ],
   "source": [
    "X.isna().sum()"
   ]
  },
  {
   "cell_type": "markdown",
   "id": "a6670c0c-32b8-4f6e-b962-994a7fc5c5e7",
   "metadata": {},
   "source": [
    "We are going to randomly assign observations in our dataset to be missing, and then see which imputation methods perform best by comparing their results to our actual dataset. Let's randomly assign NA observations throughout our dataset. We will create a copy of our dataframe and call it `X_Na`."
   ]
  },
  {
   "cell_type": "code",
   "execution_count": 34,
   "id": "64fccf2b-0f86-4734-8a89-eacb85c59f0c",
   "metadata": {
    "tags": []
   },
   "outputs": [],
   "source": [
    "# Create copy of X variables\n",
    "X_Na = X.copy()"
   ]
  },
  {
   "cell_type": "code",
   "execution_count": 38,
   "id": "c4938873-2750-468e-bedb-31b0a7444e88",
   "metadata": {
    "tags": []
   },
   "outputs": [],
   "source": [
    "# Assign 10% of new dataframe with NA values\n",
    "for col in X_Na.columns:\n",
    "    X_Na.loc[X_Na.sample(frac=0.1).index, col] = np.nan\n",
    "    \n",
    "# Randomly select 10 % of the rows, get the index\n",
    "# for those rows, and assign as NA"
   ]
  },
  {
   "cell_type": "code",
   "execution_count": 39,
   "id": "281a5561-823b-4ade-853c-9cf9b553bc36",
   "metadata": {
    "tags": []
   },
   "outputs": [
    {
     "data": {
      "text/plain": [
       "cap-shape                   2189\n",
       "cap-surface                 2215\n",
       "cap-color                   2193\n",
       "bruises                     2211\n",
       "odor                        2231\n",
       "gill-attachment             2190\n",
       "gill-spacing                2183\n",
       "gill-size                   2216\n",
       "gill-color                  2199\n",
       "stalk-shape                 2183\n",
       "stalk-root                  2221\n",
       "stalk-surface-above-ring    2206\n",
       "stalk-surface-below-ring    2202\n",
       "stalk-color-above-ring      2196\n",
       "stalk-color-below-ring      2220\n",
       "veil-type                   2206\n",
       "veil-color                  2205\n",
       "ring-number                 2197\n",
       "ring-type                   2188\n",
       "spore-print-color           2200\n",
       "population                  2204\n",
       "habitat                     2235\n",
       "dtype: int64"
      ]
     },
     "execution_count": 39,
     "metadata": {},
     "output_type": "execute_result"
    }
   ],
   "source": [
    "# Check to make sure there are missing values\n",
    "X_Na.isna().sum()"
   ]
  },
  {
   "cell_type": "markdown",
   "id": "45fdce00-ba0b-46b0-8e99-70ab19af68ec",
   "metadata": {},
   "source": [
    "Now that we have our dataset with missing values, let's impute! "
   ]
  },
  {
   "cell_type": "markdown",
   "id": "4d66f1a8-5405-4b2d-bf64-dd256fac3a4e",
   "metadata": {},
   "source": [
    "##### Imputation method #1: Filling NA values with the mode"
   ]
  },
  {
   "cell_type": "code",
   "execution_count": 51,
   "id": "81b52dbd-77a0-4329-8835-a4f48d8371b4",
   "metadata": {
    "tags": []
   },
   "outputs": [
    {
     "data": {
      "text/plain": [
       "cap-shape                   0\n",
       "cap-surface                 0\n",
       "cap-color                   0\n",
       "bruises                     0\n",
       "odor                        0\n",
       "gill-attachment             0\n",
       "gill-spacing                0\n",
       "gill-size                   0\n",
       "gill-color                  0\n",
       "stalk-shape                 0\n",
       "stalk-root                  0\n",
       "stalk-surface-above-ring    0\n",
       "stalk-surface-below-ring    0\n",
       "stalk-color-above-ring      0\n",
       "stalk-color-below-ring      0\n",
       "veil-type                   0\n",
       "veil-color                  0\n",
       "ring-number                 0\n",
       "ring-type                   0\n",
       "spore-print-color           0\n",
       "population                  0\n",
       "habitat                     0\n",
       "dtype: int64"
      ]
     },
     "execution_count": 51,
     "metadata": {},
     "output_type": "execute_result"
    }
   ],
   "source": [
    "# Impute with mode\n",
    "X_mode_impute = X_Na.fillna(X_Na.mode().iloc[0])# select first row to make a series\n",
    "\n",
    "# Check to make sure there are no NAs\n",
    "X_mode_impute.isna().sum()"
   ]
  },
  {
   "cell_type": "markdown",
   "id": "e2a56f48-dda7-44b0-b7e5-c31d3b70b1ef",
   "metadata": {},
   "source": [
    "##### Imputation method #2: Filling NA values with the median using `SimpleImputer`"
   ]
  },
  {
   "cell_type": "code",
   "execution_count": 16,
   "id": "ca5fe157-c23e-4870-9994-28ae1708bacf",
   "metadata": {
    "tags": []
   },
   "outputs": [
    {
     "data": {
      "text/plain": [
       "cap-shape                   0\n",
       "cap-surface                 0\n",
       "cap-color                   0\n",
       "bruises                     0\n",
       "odor                        0\n",
       "gill-attachment             0\n",
       "gill-spacing                0\n",
       "gill-size                   0\n",
       "gill-color                  0\n",
       "stalk-shape                 0\n",
       "stalk-root                  0\n",
       "stalk-surface-above-ring    0\n",
       "stalk-surface-below-ring    0\n",
       "stalk-color-above-ring      0\n",
       "stalk-color-below-ring      0\n",
       "veil-type                   0\n",
       "veil-color                  0\n",
       "ring-number                 0\n",
       "ring-type                   0\n",
       "spore-print-color           0\n",
       "population                  0\n",
       "habitat                     0\n",
       "dtype: int64"
      ]
     },
     "execution_count": 16,
     "metadata": {},
     "output_type": "execute_result"
    }
   ],
   "source": [
    "# Impute with median (using SimpleImputer) \n",
    "median_impute = SimpleImputer(strategy='median')\n",
    "X_median_impute = median_impute.fit_transform(X_Na)\n",
    "X_median_impute = pd.DataFrame(X_median_impute, columns = X.columns)\n",
    "\n",
    "# Check to make sure there are no NAs\n",
    "X_median_impute.isna().sum()"
   ]
  },
  {
   "cell_type": "markdown",
   "id": "94f2fb7b-e4ea-4f31-991d-143222a28572",
   "metadata": {
    "tags": []
   },
   "source": [
    "##### Imputation method #3: Filling NA values with KNN Imputer"
   ]
  },
  {
   "cell_type": "code",
   "execution_count": 17,
   "id": "fd628cf3-b3ba-4c9a-816d-7a916a39d0ed",
   "metadata": {
    "tags": []
   },
   "outputs": [
    {
     "data": {
      "text/plain": [
       "cap-shape                   0\n",
       "cap-surface                 0\n",
       "cap-color                   0\n",
       "bruises                     0\n",
       "odor                        0\n",
       "gill-attachment             0\n",
       "gill-spacing                0\n",
       "gill-size                   0\n",
       "gill-color                  0\n",
       "stalk-shape                 0\n",
       "stalk-root                  0\n",
       "stalk-surface-above-ring    0\n",
       "stalk-surface-below-ring    0\n",
       "stalk-color-above-ring      0\n",
       "stalk-color-below-ring      0\n",
       "veil-type                   0\n",
       "veil-color                  0\n",
       "ring-number                 0\n",
       "ring-type                   0\n",
       "spore-print-color           0\n",
       "population                  0\n",
       "habitat                     0\n",
       "dtype: int64"
      ]
     },
     "execution_count": 17,
     "metadata": {},
     "output_type": "execute_result"
    }
   ],
   "source": [
    "# Impute with KNN Imputer\n",
    "knn_impute = KNNImputer(n_neighbors=5)\n",
    "X_knn_impute = knn_impute.fit_transform(X_Na)\n",
    "X_knn_impute = pd.DataFrame(X_knn_impute, columns = X.columns)\n",
    "\n",
    "# Check to make sure there are no NAs\n",
    "X_knn_impute.isna().sum()"
   ]
  },
  {
   "cell_type": "markdown",
   "id": "cb328a21-f910-48c5-b16e-d97166888caf",
   "metadata": {},
   "source": [
    "##### Now that we have four different dataframes with four different imputation methods, lets see which best captured our real data!We can do this using the mean squared error!  "
   ]
  },
  {
   "cell_type": "code",
   "execution_count": 18,
   "id": "12070651-dd2c-40bf-af5a-1f85a77beb85",
   "metadata": {
    "tags": []
   },
   "outputs": [
    {
     "name": "stdout",
     "output_type": "stream",
     "text": [
      "Mode imputation performance: 0.4553455530191128\n",
      "Median imputation performance: 0.25955082583590705\n",
      "KNN imputation performance: 0.12278859495993912\n"
     ]
    }
   ],
   "source": [
    "# Calculate imputation accuracy using mean squared error\n",
    "mse_mode = mean_squared_error(X, X_mode_impute)\n",
    "mse_median = mean_squared_error(X, X_median_impute)\n",
    "mse_knn = mean_squared_error(X, X_knn_impute)\n",
    "\n",
    "# Report results\n",
    "print(f\"Mode imputation performance: {mse_mode}\")\n",
    "print(f\"Median imputation performance: {mse_median}\")\n",
    "print(f\"KNN imputation performance: {mse_knn}\")\n"
   ]
  },
  {
   "cell_type": "markdown",
   "id": "b0e90d8e-6218-4341-8961-d188f91d6078",
   "metadata": {},
   "source": [
    "It looks like our Mode Imputation worked the best! Let's go ahead and use our imputed data and our real data to run a random forest model. "
   ]
  },
  {
   "cell_type": "markdown",
   "id": "2dd86933-a05e-4046-b8a8-766a3c03062e",
   "metadata": {},
   "source": [
    "### Bagging Classifier with original data"
   ]
  },
  {
   "cell_type": "code",
   "execution_count": 54,
   "id": "708d37ad-58a4-406b-a23b-1ea0bc78a60a",
   "metadata": {
    "tags": []
   },
   "outputs": [],
   "source": [
    "# Split actual data\n",
    "X_train, X_test, y_train, y_test = train_test_split(X, y, test_size=0.3, random_state=42)"
   ]
  },
  {
   "cell_type": "code",
   "execution_count": 55,
   "id": "b0a922fc-e3fe-4f19-97b8-abcfd19eeca6",
   "metadata": {
    "tags": []
   },
   "outputs": [
    {
     "name": "stdout",
     "output_type": "stream",
     "text": [
      "Number of features 1 ; Random Forest Accuracy: 93.81%\n",
      "Number of features 4 ; Random Forest Accuracy: 98.93%\n",
      "Number of features 7 ; Random Forest Accuracy: 98.44%\n",
      "Number of features 10 ; Random Forest Accuracy: 98.44%\n",
      "Number of features 13 ; Random Forest Accuracy: 98.40%\n",
      "Number of features 16 ; Random Forest Accuracy: 98.40%\n",
      "Number of features 19 ; Random Forest Accuracy: 98.40%\n",
      "Number of features 22 ; Random Forest Accuracy: 98.40%\n"
     ]
    }
   ],
   "source": [
    "# Number of features to include for tuning\n",
    "num_features = [1, 4, 7, 10, 13, 16, 19, 22]\n",
    "accuracy = []\n",
    "\n",
    "for features in num_features: \n",
    "    rf_classifier = RandomForestClassifier(\n",
    "        n_estimators=50, # 50 trees\n",
    "        max_depth=3, # Depth of 3\n",
    "        random_state=42, \n",
    "        max_features = features  # Maximum number of features to include\n",
    "    )\n",
    "    rf_classifier.fit(X_train, y_train)\n",
    "\n",
    "    # Predict and evaluate\n",
    "    y_pred = rf_classifier.predict(X_test)\n",
    "    rf_accuracy = accuracy_score(y_test, y_pred)\n",
    "    accuracy.append(rf_accuracy)\n",
    "    print(f\"Number of features {features} ; Random Forest Accuracy: {rf_accuracy:.2%}\")\n"
   ]
  },
  {
   "cell_type": "markdown",
   "id": "191632bf-1ef8-4cac-adfe-e99acf36f51e",
   "metadata": {},
   "source": [
    "#### Bagging Classifier with imputed data:"
   ]
  },
  {
   "cell_type": "code",
   "execution_count": 57,
   "id": "c1df35d9-d52a-4668-9ef7-7536d1d8933e",
   "metadata": {
    "tags": []
   },
   "outputs": [],
   "source": [
    "# Split imputed data \n",
    "X_train, X_test, y_train, y_test = train_test_split(X_mode_impute, y, test_size=0.3, random_state=42)"
   ]
  },
  {
   "cell_type": "code",
   "execution_count": 58,
   "id": "4f8593f8-44de-4286-a571-39790823b953",
   "metadata": {
    "tags": []
   },
   "outputs": [
    {
     "name": "stdout",
     "output_type": "stream",
     "text": [
      "Number of features 1 ; Random Forest Accuracy: 91.02%\n",
      "Number of features 4 ; Random Forest Accuracy: 91.63%\n",
      "Number of features 7 ; Random Forest Accuracy: 92.49%\n",
      "Number of features 10 ; Random Forest Accuracy: 91.55%\n",
      "Number of features 13 ; Random Forest Accuracy: 91.59%\n",
      "Number of features 16 ; Random Forest Accuracy: 91.06%\n",
      "Number of features 19 ; Random Forest Accuracy: 91.06%\n",
      "Number of features 22 ; Random Forest Accuracy: 90.98%\n"
     ]
    }
   ],
   "source": [
    "# Number of features to include for tuning\n",
    "num_features = [1, 4, 7, 10, 13, 16, 19, 22]\n",
    "accuracy = []\n",
    "\n",
    "for features in num_features: \n",
    "    rf_classifier = RandomForestClassifier(\n",
    "        n_estimators=50, # 50 trees\n",
    "        max_depth=3, # Depth of 3\n",
    "        random_state=42, \n",
    "        max_features = features  # Maximum number of features to include\n",
    "    )\n",
    "    rf_classifier.fit(X_train, y_train)\n",
    "\n",
    "    # Predict and evaluate\n",
    "    y_pred = rf_classifier.predict(X_test)\n",
    "    rf_accuracy = accuracy_score(y_test, y_pred)\n",
    "    accuracy.append(rf_accuracy)\n",
    "    print(f\"Number of features {features} ; Random Forest Accuracy: {rf_accuracy:.2%}\")\n"
   ]
  }
 ],
 "metadata": {
  "kernelspec": {
   "display_name": "Anaconda 3 (EDS232)",
   "language": "python",
   "name": "ml-env"
  },
  "language_info": {
   "codemirror_mode": {
    "name": "ipython",
    "version": 3
   },
   "file_extension": ".py",
   "mimetype": "text/x-python",
   "name": "python",
   "nbconvert_exporter": "python",
   "pygments_lexer": "ipython3",
   "version": "3.10.16"
  }
 },
 "nbformat": 4,
 "nbformat_minor": 5
}
